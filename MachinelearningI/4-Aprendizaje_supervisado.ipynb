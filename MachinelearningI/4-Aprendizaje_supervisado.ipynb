{
 "cells": [
  {
   "cell_type": "markdown",
   "metadata": {},
   "source": [
    "# 3. Aprendizaje Supervisado \n",
    "\n",
    "\n",
    "Realizaremos disintintos modelos de aprendizaje supervisado, ajustnado sus hiperparametros para posteriormente ver cual de ellos  presenta un mejor desmpeño. \n",
    "\n"
   ]
  },
  {
   "cell_type": "code",
   "execution_count": 28,
   "metadata": {},
   "outputs": [],
   "source": [
    "### LIMPIEZA DE DATOS \n",
    "import numpy as np\n",
    "import pandas as pd\n",
    "\n",
    "###VISUALIZACION DEL MODELO\n",
    "\n",
    "import matplotlib.pyplot as plt\n",
    "from matplotlib.colors import ListedColormap\n",
    "import matplotlib.patches as mpatches\n",
    "import seaborn as sb"
   ]
  },
  {
   "cell_type": "markdown",
   "metadata": {},
   "source": [
    "## Modelos de Aprendizaje Supervisado"
   ]
  },
  {
   "cell_type": "markdown",
   "metadata": {},
   "source": [
    "Creamos una nueva variable que se  categorizará el precio en funcion de si es caro(1) o barato (0). "
   ]
  },
  {
   "cell_type": "code",
   "execution_count": 29,
   "metadata": {},
   "outputs": [
    {
     "name": "stdout",
     "output_type": "stream",
     "text": [
      "precio_div\n",
      "0    13381\n",
      "1    13675\n",
      "dtype: int64\n"
     ]
    }
   ],
   "source": [
    "###DIVISION DE LOS DATOS----------------------------------------------- \n",
    "\n",
    "data= pd.read_csv(\"seleccion_variables_RF_bathandrooms.csv\")\n",
    "\n",
    "\n",
    "#Etiquetarlos datos en funcion de alto o bajo. \n",
    "\n",
    "mediana= 870000.0\n",
    "data[\"precio_div\"]= np.where(data[\"Price\"]>=mediana, \"1\", \"0\" )#1 es caro Y 0 es barato \n",
    "#print(data.head(100))\n",
    "#data=data.replace(np.nan,\"0\")\n",
    "\n",
    "data.to_csv('csv_precio_div')\n",
    "\n",
    "\n",
    "print(data.groupby('precio_div').size())"
   ]
  },
  {
   "cell_type": "raw",
   "metadata": {},
   "source": [
    "Preparamos los dataset de training y de test. "
   ]
  },
  {
   "cell_type": "code",
   "execution_count": 30,
   "metadata": {},
   "outputs": [
    {
     "name": "stdout",
     "output_type": "stream",
     "text": [
      "Ejemplos usados para entrenar:  18972\n",
      "Ejemplos usados para test:  8084\n"
     ]
    }
   ],
   "source": [
    "# Hemos separado  el 70%\n",
    "\n",
    "# dividir el data set de forma aleatoria \n",
    "\n",
    "p_train = 0.70 # Porcentaje de train.\n",
    "\n",
    "data['is_train'] = np.random.uniform(0, 1, len(data)) <= p_train\n",
    "train, test = data[data['is_train']==True], data[data['is_train']==False]\n",
    "df = data.drop('is_train', 1)\n",
    "\n",
    "print(\"Ejemplos usados para entrenar: \", len(train))\n",
    "print(\"Ejemplos usados para test: \", len(test))\n"
   ]
  },
  {
   "cell_type": "markdown",
   "metadata": {},
   "source": [
    "### 1. GLM : Regresion Logística \n",
    "\n",
    "\n"
   ]
  },
  {
   "cell_type": "markdown",
   "metadata": {},
   "source": [
    "Seleccionamos las variables  seleccionada a raiz del PCA 'Distancia_NEW','Lattitude','Longtitude','Landsize' e intentamos predecir la variable categorizada del precio. "
   ]
  },
  {
   "cell_type": "code",
   "execution_count": 31,
   "metadata": {},
   "outputs": [],
   "source": [
    "from sklearn import linear_model\n",
    "from sklearn import model_selection\n",
    "from sklearn.metrics import classification_report\n",
    "from sklearn.metrics import confusion_matrix\n",
    "from sklearn.metrics import accuracy_score"
   ]
  },
  {
   "cell_type": "code",
   "execution_count": 32,
   "metadata": {},
   "outputs": [],
   "source": [
    "#TRAIN \n",
    "features = np.array(train[['Distancia_NEW','Lattitude','Longtitude','Landsize']])\n",
    "labels = np.array(train['precio_div'])"
   ]
  },
  {
   "cell_type": "code",
   "execution_count": 33,
   "metadata": {},
   "outputs": [],
   "source": [
    "#TEST\n",
    "features_t = np.array(test[['Distancia_NEW','Lattitude','Longtitude','Landsize']])\n",
    "labels_t = np.array(test['precio_div'])"
   ]
  },
  {
   "cell_type": "code",
   "execution_count": 34,
   "metadata": {},
   "outputs": [
    {
     "data": {
      "text/plain": [
       "LogisticRegression()"
      ]
     },
     "execution_count": 34,
     "metadata": {},
     "output_type": "execute_result"
    }
   ],
   "source": [
    "# Create logistic regression model\n",
    "\n",
    "model = linear_model.LogisticRegression()\n",
    "\n",
    "#Train the model\n",
    "model.fit(features, labels)#The first is a matrix of features, and the second is a matrix of class labels. "
   ]
  },
  {
   "cell_type": "markdown",
   "metadata": {},
   "source": [
    "Evaluamos como de bueno ha sido el ajuste del modelo sobre los propios datos de entrenamiento.  "
   ]
  },
  {
   "cell_type": "code",
   "execution_count": 35,
   "metadata": {},
   "outputs": [
    {
     "name": "stdout",
     "output_type": "stream",
     "text": [
      "0.6227598566308243\n"
     ]
    }
   ],
   "source": [
    "predictions= model.predict(features)\n",
    "print(accuracy_score(labels, predictions))"
   ]
  },
  {
   "cell_type": "markdown",
   "metadata": {},
   "source": [
    "Validamos el modelos usando los datos de test. "
   ]
  },
  {
   "cell_type": "code",
   "execution_count": 36,
   "metadata": {},
   "outputs": [
    {
     "name": "stdout",
     "output_type": "stream",
     "text": [
      "0.6186293913904007\n"
     ]
    }
   ],
   "source": [
    "#Validacion del modelo\n",
    "predictions_t= model.predict(features_t)\n",
    "print(accuracy_score(labels_t, predictions_t))"
   ]
  },
  {
   "cell_type": "markdown",
   "metadata": {},
   "source": [
    "Para obtener mas información sobre el modelo  procedemos a evaluar los resultados con un matriz de confusión  y un reporte de clasificación.  "
   ]
  },
  {
   "cell_type": "markdown",
   "metadata": {},
   "source": [
    "#### 1.1. Evaluación del modelo de Regresión Logística"
   ]
  },
  {
   "cell_type": "code",
   "execution_count": 37,
   "metadata": {},
   "outputs": [
    {
     "name": "stdout",
     "output_type": "stream",
     "text": [
      "              precision    recall  f1-score   support\n",
      "\n",
      "           0       0.64      0.53      0.58      4040\n",
      "           1       0.60      0.70      0.65      4044\n",
      "\n",
      "    accuracy                           0.62      8084\n",
      "   macro avg       0.62      0.62      0.62      8084\n",
      "weighted avg       0.62      0.62      0.62      8084\n",
      "\n"
     ]
    }
   ],
   "source": [
    "#Reporte de resultados del Modelo\n",
    "\n",
    "print(classification_report(labels_t , predictions_t))"
   ]
  },
  {
   "cell_type": "markdown",
   "metadata": {},
   "source": [
    "Podemos observar que la distribución entre ambas categorias es bastante homogénea,  al igual que el acierto en la predicción de cada una de ellas es parecida aunque ligeramente superior en la categoría de casas caras. \n",
    "\n",
    "F1 score  es 0.62  un valor que  se puede considerar como aceptable. "
   ]
  },
  {
   "cell_type": "code",
   "execution_count": 38,
   "metadata": {},
   "outputs": [
    {
     "data": {
      "image/png": "[encoded data removed]",
      "text/plain": [
       "<Figure size 432x288 with 1 Axes>"
      ]
     },
     "metadata": {
      "needs_background": "light"
     },
     "output_type": "display_data"
    }
   ],
   "source": [
    "#dibujo de la Curva ROC\n",
    "\n",
    "from sklearn.metrics import roc_auc_score\n",
    "from sklearn.datasets import make_multilabel_classification\n",
    "from sklearn.multioutput import MultiOutputClassifier\n",
    "from sklearn.metrics import plot_roc_curve\n",
    "from sklearn.datasets import load_wine\n",
    "from sklearn.model_selection import train_test_split\n",
    "\n",
    "rlog_disp = plot_roc_curve(model, features, labels)\n",
    "plt.show()\n"
   ]
  },
  {
   "cell_type": "markdown",
   "metadata": {},
   "source": [
    "### 2. K- NEAREST NEIGHBORS (KNN )\n",
    "\n"
   ]
  },
  {
   "cell_type": "code",
   "execution_count": 39,
   "metadata": {},
   "outputs": [],
   "source": [
    "from sklearn.neighbors import KNeighborsClassifier\n",
    "from sklearn import metrics\n",
    "from sklearn.model_selection import train_test_split\n",
    "from sklearn.neighbors import KNeighborsClassifier\n",
    "from sklearn.metrics import classification_report\n",
    "from sklearn.metrics import confusion_matrix"
   ]
  },
  {
   "cell_type": "code",
   "execution_count": 40,
   "metadata": {},
   "outputs": [],
   "source": [
    "# # SELECCION DE VARIABLES\n",
    "\n",
    "X = train[['Distancia_NEW','Lattitude','Longtitude','Landsize']].values\n",
    "y = train['precio_div'].values\n",
    "\n",
    "X_test=test[['Distancia_NEW','Lattitude','Longtitude','Landsize']].values\n",
    "y_test=test['precio_div'].values\n",
    " "
   ]
  },
  {
   "cell_type": "markdown",
   "metadata": {},
   "source": [
    "Para realizar  el modelo de Knn primero estandarizamos los datos. "
   ]
  },
  {
   "cell_type": "code",
   "execution_count": 41,
   "metadata": {},
   "outputs": [],
   "source": [
    "#NORMALIZACION\n",
    "from sklearn import preprocessing\n",
    "scaler = preprocessing.StandardScaler().fit(X)\n",
    "X = scaler.transform(X)\n",
    "X_test = scaler.transform(X_test)\n"
   ]
  },
  {
   "cell_type": "markdown",
   "metadata": {},
   "source": [
    "#### 2.1. Ajuste de hiperparametros "
   ]
  },
  {
   "cell_type": "markdown",
   "metadata": {},
   "source": [
    "Con el objetivo de elegir el mejor número de vecinos dibujamos una gráfica con todas las variables en un rango entre 0 y 20. "
   ]
  },
  {
   "cell_type": "code",
   "execution_count": 42,
   "metadata": {},
   "outputs": [
    {
     "data": {
      "text/plain": [
       "([<matplotlib.axis.XTick at 0x7f88a6eff820>,\n",
       "  <matplotlib.axis.XTick at 0x7f88a6eff190>,\n",
       "  <matplotlib.axis.XTick at 0x7f88a6efb6d0>,\n",
       "  <matplotlib.axis.XTick at 0x7f88a5134e20>,\n",
       "  <matplotlib.axis.XTick at 0x7f88a5146370>],\n",
       " <a list of 5 Text major ticklabel objects>)"
      ]
     },
     "execution_count": 42,
     "metadata": {},
     "output_type": "execute_result"
    },
    {
     "data": {
      "image/png": "[encoded data removed]",
      "text/plain": [
       "<Figure size 432x288 with 1 Axes>"
      ]
     },
     "metadata": {
      "needs_background": "light"
     },
     "output_type": "display_data"
    }
   ],
   "source": [
    "#ELEGIR EL MEJOR K \n",
    "\n",
    "k_range = range(1, 20)\n",
    "scores = []\n",
    "for k in k_range:\n",
    "     knn = KNeighborsClassifier(n_neighbors = k)\n",
    "     knn.fit(X, y)\n",
    "     scores.append(knn.score(X_test, y_test))\n",
    "\n",
    "plt.figure()\n",
    "plt.xlabel('k')\n",
    "plt.ylabel('accuracy')\n",
    "plt.scatter(k_range, scores)\n",
    "plt.xticks([0,5,10,15,20])"
   ]
  },
  {
   "cell_type": "markdown",
   "metadata": {},
   "source": [
    "Visualizando la gráfica anterior buscamos el valor de k que nos proporcione el mejor f1-score dentro del rango entre 1 y 10 vecinos. "
   ]
  },
  {
   "cell_type": "code",
   "execution_count": 43,
   "metadata": {},
   "outputs": [
    {
     "name": "stdout",
     "output_type": "stream",
     "text": [
      "7\n"
     ]
    }
   ],
   "source": [
    "\n",
    "#encontrar la mejor k \n",
    "\n",
    "best_k=0\n",
    "best_score=0\n",
    "neighbors=range(1,10,2)#considerara min_k=1, max_k=10, solo odd numbers \n",
    "for k in neighbors:\n",
    "    knn=KNeighborsClassifier(n_neighbors=k) #instantiante classifier\n",
    "    knn.fit(X, y )# fit model \n",
    "    knn_y_pred= knn.predict(X_test)\n",
    "    \n",
    "    #we will consider the optimal k to be the k that produce the highest f1 score\n",
    "    f1 = metrics.f1_score(y_test, knn_y_pred, pos_label='1')\n",
    "    if f1> best_score:\n",
    "        best_k= k \n",
    "        best_score =f1\n",
    "        \n",
    "print (best_k)"
   ]
  },
  {
   "cell_type": "markdown",
   "metadata": {},
   "source": [
    "Obtenemos que el mejor valor para k y por lo tanto procedemos a  entrenar nuestro modelo con el. Este dato corresponde con la gráfica anteriormente  visualizada. "
   ]
  },
  {
   "cell_type": "markdown",
   "metadata": {},
   "source": [
    "#### 2.2 Evaluación del modelo de KNN"
   ]
  },
  {
   "cell_type": "code",
   "execution_count": 44,
   "metadata": {},
   "outputs": [
    {
     "name": "stdout",
     "output_type": "stream",
     "text": [
      "Accuracy of K-NN classifier on training set: 0.85\n",
      "Accuracy of K-NN classifier on test set: 0.80\n"
     ]
    }
   ],
   "source": [
    "#Hiperparametros-\n",
    "n_neighbors = best_k\n",
    "#algorithm='brute'\n",
    "#p=1\n",
    "#weights='distance'# uniforme ( todos los puntos son iguales )\n",
    "#n_jobs=-1\n",
    "\n",
    "#train Knn\n",
    "\n",
    "knn=  KNeighborsClassifier(n_neighbors) \n",
    "knn.fit(X, y )\n",
    "\n",
    "\n",
    "#Medida de precision\n",
    "print('Accuracy of K-NN classifier on training set: {:.2f}'.format(knn.score(X, y)))\n",
    "print('Accuracy of K-NN classifier on test set: {:.2f}'.format(knn.score(X_test, y_test)))"
   ]
  },
  {
   "cell_type": "code",
   "execution_count": 45,
   "metadata": {},
   "outputs": [
    {
     "name": "stdout",
     "output_type": "stream",
     "text": [
      "              precision    recall  f1-score   support\n",
      "\n",
      "           0       0.82      0.77      0.80      4040\n",
      "           1       0.79      0.83      0.81      4044\n",
      "\n",
      "    accuracy                           0.80      8084\n",
      "   macro avg       0.80      0.80      0.80      8084\n",
      "weighted avg       0.80      0.80      0.80      8084\n",
      "\n"
     ]
    }
   ],
   "source": [
    "#PRECISION DEL MODELO\n",
    "\n",
    "knn_y_pred= knn.predict(X_test)\n",
    "print(classification_report(y_test, knn_y_pred))"
   ]
  },
  {
   "cell_type": "markdown",
   "metadata": {},
   "source": [
    "Obtenemos un f1-score de 0.81 lo cual es bastante bueno. "
   ]
  },
  {
   "cell_type": "markdown",
   "metadata": {},
   "source": [
    "Representamos la curva ROC para ver como se comporta el modelo en relación a falsos positivos y  verdaderos positivos. "
   ]
  },
  {
   "cell_type": "code",
   "execution_count": 46,
   "metadata": {},
   "outputs": [
    {
     "data": {
      "image/png": "[encoded data removed]",
      "text/plain": [
       "<Figure size 432x288 with 1 Axes>"
      ]
     },
     "metadata": {
      "needs_background": "light"
     },
     "output_type": "display_data"
    }
   ],
   "source": [
    "#Pintar curva ROC\n",
    "Knn_disp = plot_roc_curve(knn, X, y)\n",
    "plt.show()"
   ]
  },
  {
   "cell_type": "markdown",
   "metadata": {},
   "source": [
    "### 3. SVM \n",
    "\n",
    "\n",
    "\n",
    "\n",
    "Primero sin normalizar y despues normalizando \n",
    "probar los difrentes kernels "
   ]
  },
  {
   "cell_type": "code",
   "execution_count": 47,
   "metadata": {},
   "outputs": [],
   "source": [
    "from sklearn.svm import SVC\n",
    "from sklearn import svm\n",
    "from sklearn.naive_bayes import GaussianNB"
   ]
  },
  {
   "cell_type": "code",
   "execution_count": null,
   "metadata": {},
   "outputs": [],
   "source": [
    "X = train[['Distancia_NEW','Lattitude','Longtitude','Landsize']].values\n",
    "y = train['precio_div'].values\n",
    "\n",
    "X_test=test[['Distancia_NEW','Lattitude','Longtitude','Landsize']].values\n",
    "y_test=test['precio_div'].values\n"
   ]
  },
  {
   "cell_type": "markdown",
   "metadata": {},
   "source": [
    "Realizamos el modelo de SVM con los tres tipos de Kernel  más comunes Lineal, polinomico y rbf. Los tres con los mismos valores de C para evaluar cual tiene mejor resultado. "
   ]
  },
  {
   "cell_type": "code",
   "execution_count": null,
   "metadata": {},
   "outputs": [],
   "source": [
    "#NORMALIZACION\n",
    "\n",
    "scaler = preprocessing.StandardScaler().fit(X)\n",
    "X_norm = scaler.transform(X)\n",
    "X_test_norm = scaler.transform(X_test)"
   ]
  },
  {
   "cell_type": "markdown",
   "metadata": {},
   "source": [
    "#### Kernel Lineal "
   ]
  },
  {
   "cell_type": "code",
   "execution_count": null,
   "metadata": {},
   "outputs": [],
   "source": [
    "#classifier = SVC(kernel = \"linear\", C = 2)\n",
    "#classifier.fit(X_norm, y) \n",
    "#classifier.predict(X_test_norm)\n",
    "#print(\"Kernel lineal\", classifier.score(X_test_norm, Y_test))"
   ]
  },
  {
   "cell_type": "markdown",
   "metadata": {},
   "source": [
    "#### Kernel Polinómico"
   ]
  },
  {
   "cell_type": "code",
   "execution_count": 27,
   "metadata": {},
   "outputs": [],
   "source": [
    "#classifier = SVC(kernel = \"poly\",degree= 2, C = 2)\n",
    "#classifier.fit(X_norm, y) \n",
    "#print(classifier.predict(X_test))\n",
    "#print(\"Kernel polinómico\", classifier.score(X_test_norm, Y_test))"
   ]
  },
  {
   "cell_type": "markdown",
   "metadata": {},
   "source": [
    "#### Kernel Radial"
   ]
  },
  {
   "cell_type": "markdown",
   "metadata": {},
   "source": [
    "El modelo que mejor resultado obtiene es el propuesto con kernel radial."
   ]
  },
  {
   "cell_type": "code",
   "execution_count": 18,
   "metadata": {},
   "outputs": [
    {
     "name": "stdout",
     "output_type": "stream",
     "text": [
      " Kernel rbf con datos normalizados:  0.7272505191156712\n"
     ]
    }
   ],
   "source": [
    "\n",
    "#Prediccion con datos normalizados \n",
    "\n",
    "classifier = SVC(kernel = \"rbf\", gamma = 0.3, C = 2)\n",
    "classifier.fit(X_norm, y) \n",
    "#print(classifier.predict(X_test))\n",
    "print(\" Kernel rbf con datos normalizados: \", classifier.score(X_test_norm, y_test))"
   ]
  },
  {
   "cell_type": "markdown",
   "metadata": {},
   "source": [
    "#### 3.1.Ajuste de hiperparametros\n",
    "\n",
    "Hemos obtenido que normalizando los datos y usando el Kernel 'rbf'  obtenemos los mejores resultados , partiremos de esa base para el cálculo de hiperparámetros.\n",
    "\n",
    "Aplicamos esta técnica para probar diferentes C y Gammas. "
   ]
  },
  {
   "cell_type": "code",
   "execution_count": 19,
   "metadata": {},
   "outputs": [
    {
     "name": "stdout",
     "output_type": "stream",
     "text": [
      "Best: 0.774923 using {'C': 50, 'gamma': 1, 'kernel': 'rbf'}\n",
      "0.638774 (0.030602) with: {'C': 50, 'gamma': 0.001, 'kernel': 'rbf'}\n",
      "0.660610 (0.052354) with: {'C': 50, 'gamma': 0.01, 'kernel': 'rbf'}\n",
      "0.728393 (0.059046) with: {'C': 50, 'gamma': 0.1, 'kernel': 'rbf'}\n",
      "0.774923 (0.029533) with: {'C': 50, 'gamma': 1, 'kernel': 'rbf'}\n",
      "0.636177 (0.030053) with: {'C': 10, 'gamma': 0.001, 'kernel': 'rbf'}\n",
      "0.650858 (0.048630) with: {'C': 10, 'gamma': 0.01, 'kernel': 'rbf'}\n",
      "0.706611 (0.057676) with: {'C': 10, 'gamma': 0.1, 'kernel': 'rbf'}\n",
      "0.766231 (0.031483) with: {'C': 10, 'gamma': 1, 'kernel': 'rbf'}\n",
      "0.630877 (0.026309) with: {'C': 1.0, 'gamma': 0.001, 'kernel': 'rbf'}\n",
      "0.637237 (0.039657) with: {'C': 1.0, 'gamma': 0.01, 'kernel': 'rbf'}\n",
      "0.673541 (0.055272) with: {'C': 1.0, 'gamma': 0.1, 'kernel': 'rbf'}\n",
      "0.723941 (0.057480) with: {'C': 1.0, 'gamma': 1, 'kernel': 'rbf'}\n",
      "0.633050 (0.030389) with: {'C': 0.1, 'gamma': 0.001, 'kernel': 'rbf'}\n",
      "0.634216 (0.029413) with: {'C': 0.1, 'gamma': 0.01, 'kernel': 'rbf'}\n",
      "0.651441 (0.049483) with: {'C': 0.1, 'gamma': 0.1, 'kernel': 'rbf'}\n",
      "0.680908 (0.053095) with: {'C': 0.1, 'gamma': 1, 'kernel': 'rbf'}\n",
      "0.506969 (0.000106) with: {'C': 0.01, 'gamma': 0.001, 'kernel': 'rbf'}\n",
      "0.631937 (0.030180) with: {'C': 0.01, 'gamma': 0.01, 'kernel': 'rbf'}\n",
      "0.638880 (0.040216) with: {'C': 0.01, 'gamma': 0.1, 'kernel': 'rbf'}\n",
      "0.661033 (0.044503) with: {'C': 0.01, 'gamma': 1, 'kernel': 'rbf'}\n"
     ]
    }
   ],
   "source": [
    "from sklearn.datasets import make_blobs\n",
    "from sklearn.model_selection import RepeatedStratifiedKFold\n",
    "from sklearn.model_selection import GridSearchCV\n",
    "\n",
    "# define model and parameters\n",
    "model = SVC()\n",
    "kernel = ['rbf']\n",
    "C = [50,10, 1.0, 0.1, 0.01]\n",
    "gamma= [0.001,0.01,0.1,1]\n",
    "\n",
    "\n",
    "# define grid search\n",
    "grid = dict(kernel=kernel,C=C,gamma=gamma)\n",
    "#cv = RepeatedStratifiedKFold(n_splits=10, n_repeats=2, random_state=1)\n",
    "grid_search = GridSearchCV(estimator=model, param_grid=grid, n_jobs=-1, scoring='accuracy',error_score=0)#cv=cv\n",
    "grid_result = grid_search.fit(X_norm, y)\n",
    "# summarize results\n",
    "print(\"Best: %f using %s\" % (grid_result.best_score_, grid_result.best_params_))\n",
    "means = grid_result.cv_results_['mean_test_score']\n",
    "stds = grid_result.cv_results_['std_test_score']\n",
    "params = grid_result.cv_results_['params']\n",
    "for mean, stdev, param in zip(means, stds, params):\n",
    "    print(\"%f (%f) with: %r\" % (mean, stdev, param))"
   ]
  },
  {
   "cell_type": "code",
   "execution_count": 21,
   "metadata": {},
   "outputs": [
    {
     "name": "stdout",
     "output_type": "stream",
     "text": [
      " Kernel rbf con ajuste de hiperparametros:  0.8050567973616709\n"
     ]
    }
   ],
   "source": [
    "# Hiperparametros seleccionados \n",
    "classifier = SVC(kernel = \"rbf\", gamma = 1, C = 50)\n",
    "classifier.fit(X_norm, y) \n",
    "#print(classifier.predict(X_test))\n",
    "print(\" Kernel rbf con ajuste de hiperparametros: \", classifier.score(X_test_norm, y_test))"
   ]
  },
  {
   "cell_type": "markdown",
   "metadata": {},
   "source": [
    "Tras el ajuste de los hiperparámetros el resultado obtenido por svm  alcanza  un porcetaje muy elevado. "
   ]
  },
  {
   "cell_type": "code",
   "execution_count": 24,
   "metadata": {},
   "outputs": [
    {
     "name": "stdout",
     "output_type": "stream",
     "text": [
      "              precision    recall  f1-score   support\n",
      "\n",
      "           0       0.83      0.77      0.80      4078\n",
      "           1       0.78      0.84      0.81      4109\n",
      "\n",
      "    accuracy                           0.81      8187\n",
      "   macro avg       0.81      0.80      0.80      8187\n",
      "weighted avg       0.81      0.81      0.80      8187\n",
      "\n"
     ]
    }
   ],
   "source": [
    "#PRECISION DEL MODELO\n",
    "pred = classifier.predict(X_test_norm)\n",
    "print(classification_report(y_test, pred))"
   ]
  },
  {
   "cell_type": "code",
   "execution_count": 62,
   "metadata": {},
   "outputs": [
    {
     "data": {
      "image/png": "[encoded data removed]",
      "text/plain": [
       "<Figure size 432x288 with 1 Axes>"
      ]
     },
     "metadata": {
      "needs_background": "light"
     },
     "output_type": "display_data"
    }
   ],
   "source": [
    "svm_roc = plot_roc_curve(classifier, X_norm, y)\n",
    "plt.show()"
   ]
  },
  {
   "cell_type": "markdown",
   "metadata": {},
   "source": [
    "## Evaluacion del punto de corte \n",
    "\n",
    "Para elegir el mejor punto de corte  para la categorizacion binaria del precio de las casas en caras y baratas vamos a utilzar la curva ROC. \n",
    "\n",
    "\n",
    "En el siguiente gráfico, Figura 1, se representa la curva ROC y el punto de\n",
    "corte que maximiza el K-S, que se corresponde con el punto en la curva\n",
    "ROC cuya distancia horizontal al eje es máxima "
   ]
  },
  {
   "cell_type": "code",
   "execution_count": 63,
   "metadata": {},
   "outputs": [
    {
     "data": {
      "image/png": "[encoded data removed]",
      "text/plain": [
       "<Figure size 432x288 with 1 Axes>"
      ]
     },
     "metadata": {
      "needs_background": "light"
     },
     "output_type": "display_data"
    }
   ],
   "source": [
    "from sklearn.metrics import roc_auc_score\n",
    "from sklearn.datasets import make_multilabel_classification\n",
    "from sklearn.multioutput import MultiOutputClassifier\n",
    "from sklearn.metrics import plot_roc_curve\n",
    "from sklearn.datasets import load_wine\n",
    "from sklearn.model_selection import train_test_split\n",
    "\n",
    "ax = plt.gca()\n",
    "rlog_disp.plot(ax=ax, alpha=0.8)\n",
    "Knn_disp.plot(ax=ax, alpha=0.8)\n",
    "svm_roc.plot(ax=ax, alpha=0.8)\n",
    "plt.show()"
   ]
  },
  {
   "cell_type": "code",
   "execution_count": 64,
   "metadata": {},
   "outputs": [],
   "source": [
    "from sklearn.metrics import accuracy_score\n",
    "import numpy as np\n",
    "import pandas as pd\n",
    "data= pd.read_csv(\"csv_precio_div\")"
   ]
  },
  {
   "cell_type": "code",
   "execution_count": 65,
   "metadata": {},
   "outputs": [
    {
     "ename": "ValueError",
     "evalue": "Found input variables with inconsistent numbers of samples: [8084, 8187]",
     "output_type": "error",
     "traceback": [
      "\u001b[0;31m---------------------------------------------------------------------------\u001b[0m",
      "\u001b[0;31mValueError\u001b[0m                                Traceback (most recent call last)",
      "\u001b[0;32m<ipython-input-65-71228fa26b60>\u001b[0m in \u001b[0;36m<module>\u001b[0;34m\u001b[0m\n\u001b[0;32m----> 1\u001b[0;31m \u001b[0maccuracy_score\u001b[0m\u001b[0;34m(\u001b[0m\u001b[0my_test\u001b[0m\u001b[0;34m,\u001b[0m \u001b[0mpred\u001b[0m\u001b[0;34m)\u001b[0m\u001b[0;34m\u001b[0m\u001b[0;34m\u001b[0m\u001b[0m\n\u001b[0m",
      "\u001b[0;32m~/anaconda3/lib/python3.8/site-packages/sklearn/utils/validation.py\u001b[0m in \u001b[0;36minner_f\u001b[0;34m(*args, **kwargs)\u001b[0m\n\u001b[1;32m     71\u001b[0m                           FutureWarning)\n\u001b[1;32m     72\u001b[0m         \u001b[0mkwargs\u001b[0m\u001b[0;34m.\u001b[0m\u001b[0mupdate\u001b[0m\u001b[0;34m(\u001b[0m\u001b[0;34m{\u001b[0m\u001b[0mk\u001b[0m\u001b[0;34m:\u001b[0m \u001b[0marg\u001b[0m \u001b[0;32mfor\u001b[0m \u001b[0mk\u001b[0m\u001b[0;34m,\u001b[0m \u001b[0marg\u001b[0m \u001b[0;32min\u001b[0m \u001b[0mzip\u001b[0m\u001b[0;34m(\u001b[0m\u001b[0msig\u001b[0m\u001b[0;34m.\u001b[0m\u001b[0mparameters\u001b[0m\u001b[0;34m,\u001b[0m \u001b[0margs\u001b[0m\u001b[0;34m)\u001b[0m\u001b[0;34m}\u001b[0m\u001b[0;34m)\u001b[0m\u001b[0;34m\u001b[0m\u001b[0;34m\u001b[0m\u001b[0m\n\u001b[0;32m---> 73\u001b[0;31m         \u001b[0;32mreturn\u001b[0m \u001b[0mf\u001b[0m\u001b[0;34m(\u001b[0m\u001b[0;34m**\u001b[0m\u001b[0mkwargs\u001b[0m\u001b[0;34m)\u001b[0m\u001b[0;34m\u001b[0m\u001b[0;34m\u001b[0m\u001b[0m\n\u001b[0m\u001b[1;32m     74\u001b[0m     \u001b[0;32mreturn\u001b[0m \u001b[0minner_f\u001b[0m\u001b[0;34m\u001b[0m\u001b[0;34m\u001b[0m\u001b[0m\n\u001b[1;32m     75\u001b[0m \u001b[0;34m\u001b[0m\u001b[0m\n",
      "\u001b[0;32m~/anaconda3/lib/python3.8/site-packages/sklearn/metrics/_classification.py\u001b[0m in \u001b[0;36maccuracy_score\u001b[0;34m(y_true, y_pred, normalize, sample_weight)\u001b[0m\n\u001b[1;32m    185\u001b[0m \u001b[0;34m\u001b[0m\u001b[0m\n\u001b[1;32m    186\u001b[0m     \u001b[0;31m# Compute accuracy for each possible representation\u001b[0m\u001b[0;34m\u001b[0m\u001b[0;34m\u001b[0m\u001b[0;34m\u001b[0m\u001b[0m\n\u001b[0;32m--> 187\u001b[0;31m     \u001b[0my_type\u001b[0m\u001b[0;34m,\u001b[0m \u001b[0my_true\u001b[0m\u001b[0;34m,\u001b[0m \u001b[0my_pred\u001b[0m \u001b[0;34m=\u001b[0m \u001b[0m_check_targets\u001b[0m\u001b[0;34m(\u001b[0m\u001b[0my_true\u001b[0m\u001b[0;34m,\u001b[0m \u001b[0my_pred\u001b[0m\u001b[0;34m)\u001b[0m\u001b[0;34m\u001b[0m\u001b[0;34m\u001b[0m\u001b[0m\n\u001b[0m\u001b[1;32m    188\u001b[0m     \u001b[0mcheck_consistent_length\u001b[0m\u001b[0;34m(\u001b[0m\u001b[0my_true\u001b[0m\u001b[0;34m,\u001b[0m \u001b[0my_pred\u001b[0m\u001b[0;34m,\u001b[0m \u001b[0msample_weight\u001b[0m\u001b[0;34m)\u001b[0m\u001b[0;34m\u001b[0m\u001b[0;34m\u001b[0m\u001b[0m\n\u001b[1;32m    189\u001b[0m     \u001b[0;32mif\u001b[0m \u001b[0my_type\u001b[0m\u001b[0;34m.\u001b[0m\u001b[0mstartswith\u001b[0m\u001b[0;34m(\u001b[0m\u001b[0;34m'multilabel'\u001b[0m\u001b[0;34m)\u001b[0m\u001b[0;34m:\u001b[0m\u001b[0;34m\u001b[0m\u001b[0;34m\u001b[0m\u001b[0m\n",
      "\u001b[0;32m~/anaconda3/lib/python3.8/site-packages/sklearn/metrics/_classification.py\u001b[0m in \u001b[0;36m_check_targets\u001b[0;34m(y_true, y_pred)\u001b[0m\n\u001b[1;32m     79\u001b[0m     \u001b[0my_pred\u001b[0m \u001b[0;34m:\u001b[0m \u001b[0marray\u001b[0m \u001b[0;32mor\u001b[0m \u001b[0mindicator\u001b[0m \u001b[0mmatrix\u001b[0m\u001b[0;34m\u001b[0m\u001b[0;34m\u001b[0m\u001b[0m\n\u001b[1;32m     80\u001b[0m     \"\"\"\n\u001b[0;32m---> 81\u001b[0;31m     \u001b[0mcheck_consistent_length\u001b[0m\u001b[0;34m(\u001b[0m\u001b[0my_true\u001b[0m\u001b[0;34m,\u001b[0m \u001b[0my_pred\u001b[0m\u001b[0;34m)\u001b[0m\u001b[0;34m\u001b[0m\u001b[0;34m\u001b[0m\u001b[0m\n\u001b[0m\u001b[1;32m     82\u001b[0m     \u001b[0mtype_true\u001b[0m \u001b[0;34m=\u001b[0m \u001b[0mtype_of_target\u001b[0m\u001b[0;34m(\u001b[0m\u001b[0my_true\u001b[0m\u001b[0;34m)\u001b[0m\u001b[0;34m\u001b[0m\u001b[0;34m\u001b[0m\u001b[0m\n\u001b[1;32m     83\u001b[0m     \u001b[0mtype_pred\u001b[0m \u001b[0;34m=\u001b[0m \u001b[0mtype_of_target\u001b[0m\u001b[0;34m(\u001b[0m\u001b[0my_pred\u001b[0m\u001b[0;34m)\u001b[0m\u001b[0;34m\u001b[0m\u001b[0;34m\u001b[0m\u001b[0m\n",
      "\u001b[0;32m~/anaconda3/lib/python3.8/site-packages/sklearn/utils/validation.py\u001b[0m in \u001b[0;36mcheck_consistent_length\u001b[0;34m(*arrays)\u001b[0m\n\u001b[1;32m    254\u001b[0m     \u001b[0muniques\u001b[0m \u001b[0;34m=\u001b[0m \u001b[0mnp\u001b[0m\u001b[0;34m.\u001b[0m\u001b[0munique\u001b[0m\u001b[0;34m(\u001b[0m\u001b[0mlengths\u001b[0m\u001b[0;34m)\u001b[0m\u001b[0;34m\u001b[0m\u001b[0;34m\u001b[0m\u001b[0m\n\u001b[1;32m    255\u001b[0m     \u001b[0;32mif\u001b[0m \u001b[0mlen\u001b[0m\u001b[0;34m(\u001b[0m\u001b[0muniques\u001b[0m\u001b[0;34m)\u001b[0m \u001b[0;34m>\u001b[0m \u001b[0;36m1\u001b[0m\u001b[0;34m:\u001b[0m\u001b[0;34m\u001b[0m\u001b[0;34m\u001b[0m\u001b[0m\n\u001b[0;32m--> 256\u001b[0;31m         raise ValueError(\"Found input variables with inconsistent numbers of\"\n\u001b[0m\u001b[1;32m    257\u001b[0m                          \" samples: %r\" % [int(l) for l in lengths])\n\u001b[1;32m    258\u001b[0m \u001b[0;34m\u001b[0m\u001b[0m\n",
      "\u001b[0;31mValueError\u001b[0m: Found input variables with inconsistent numbers of samples: [8084, 8187]"
     ]
    }
   ],
   "source": [
    "accuracy_score(y_test, pred)"
   ]
  },
  {
   "cell_type": "code",
   "execution_count": null,
   "metadata": {},
   "outputs": [],
   "source": [
    "accuracy_score(y_test, \"colocar la Y predecida\", normalize=False)"
   ]
  },
  {
   "cell_type": "code",
   "execution_count": null,
   "metadata": {},
   "outputs": [],
   "source": [
    "for eps in [ 0.3,0.5,0.7,0.9]:(clf.predict_proba(X)[:,1]>0.3).astype(int)\n",
    "    \n",
    "for eps in [0.3,0.5,0.7,0.9]:\n",
    "    y_t=(clf.predict_proba(X)[:,1]>eps).astype(int)\n",
    "    print(eps,\"acuracy\",accuracy_score(y_p,y_t))"
   ]
  }
 ],
 "metadata": {
  "kernelspec": {
   "display_name": "Python 3",
   "language": "python",
   "name": "python3"
  },
  "language_info": {
   "codemirror_mode": {
    "name": "ipython",
    "version": 3
   },
   "file_extension": ".py",
   "mimetype": "text/x-python",
   "name": "python",
   "nbconvert_exporter": "python",
   "pygments_lexer": "ipython3",
   "version": "3.8.3"
  }
 },
 "nbformat": 4,
 "nbformat_minor": 4
}
