{
 "cells": [
  {
   "cell_type": "markdown",
   "metadata": {},
   "source": [
    "# 3. Aprendizaje Supervisado \n",
    "\n",
    "\n",
    "Realizaremos disintintos modelos de aprendizaje supervisado, ajustnado sus hiperparametros para posteriormente ver cual de ellos  presenta un mejor desmpeño. \n",
    "\n"
   ]
  },
  {
   "cell_type": "code",
   "execution_count": 1,
   "metadata": {},
   "outputs": [],
   "source": [
    "### LIMPIEZA DE DATOS \n",
    "import numpy as np\n",
    "import pandas as pd\n",
    "\n",
    "###VISUALIZACION DEL MODELO\n",
    "\n",
    "import matplotlib.pyplot as plt\n",
    "from matplotlib.colors import ListedColormap\n",
    "import matplotlib.patches as mpatches\n",
    "import seaborn as sb"
   ]
  },
  {
   "cell_type": "markdown",
   "metadata": {},
   "source": [
    "## Modelos de Aprendizaje Supervisado"
   ]
  },
  {
   "cell_type": "markdown",
   "metadata": {},
   "source": [
    "Creamos una nueva variable que se  categorizará el precio en funcion de si es caro(1) o barato (0). "
   ]
  },
  {
   "cell_type": "code",
   "execution_count": 2,
   "metadata": {},
   "outputs": [
    {
     "name": "stdout",
     "output_type": "stream",
     "text": [
      "precio_div\n",
      "0    13381\n",
      "1    13675\n",
      "dtype: int64\n"
     ]
    }
   ],
   "source": [
    "###DIVISION DE LOS DATOS----------------------------------------------- \n",
    "\n",
    "data= pd.read_csv(\"seleccion_variables_RF_bathandrooms.csv\")\n",
    "\n",
    "\n",
    "#Etiquetarlos datos en funcion de alto o bajo. \n",
    "\n",
    "mediana= 870000.0\n",
    "data[\"precio_div\"]= np.where(data[\"Price\"]>=mediana, \"1\", \"0\" )#1 es caro Y 0 es barato \n",
    "#print(data.head(100))\n",
    "#data=data.replace(np.nan,\"0\")\n",
    "\n",
    "data.to_csv('csv_precio_div')\n",
    "\n",
    "\n",
    "print(data.groupby('precio_div').size())"
   ]
  },
  {
   "cell_type": "raw",
   "metadata": {},
   "source": [
    "Preparamos los dataset de training y de test. "
   ]
  },
  {
   "cell_type": "code",
   "execution_count": 3,
   "metadata": {},
   "outputs": [
    {
     "name": "stdout",
     "output_type": "stream",
     "text": [
      "Ejemplos usados para entrenar:  18827\n",
      "Ejemplos usados para test:  8229\n"
     ]
    }
   ],
   "source": [
    "# Hemos separado  el 70%\n",
    "\n",
    "# dividir el data set de forma aleatoria \n",
    "\n",
    "p_train = 0.70 # Porcentaje de train.\n",
    "\n",
    "data['is_train'] = np.random.uniform(0, 1, len(data)) <= p_train\n",
    "train, test = data[data['is_train']==True], data[data['is_train']==False]\n",
    "df = data.drop('is_train', 1)\n",
    "\n",
    "print(\"Ejemplos usados para entrenar: \", len(train))\n",
    "print(\"Ejemplos usados para test: \", len(test))\n"
   ]
  },
  {
   "cell_type": "markdown",
   "metadata": {},
   "source": [
    "### 1. GLM : Regresion Logística \n",
    "\n",
    "\n"
   ]
  },
  {
   "cell_type": "markdown",
   "metadata": {},
   "source": [
    "Seleccionamos las variables  seleccionada a raiz del PCA 'Distancia_NEW','Lattitude','Longtitude','Landsize' e intentamos predecir la variable categorizada del precio. "
   ]
  },
  {
   "cell_type": "code",
   "execution_count": 4,
   "metadata": {},
   "outputs": [],
   "source": [
    "from sklearn import linear_model\n",
    "from sklearn import model_selection\n",
    "from sklearn.metrics import classification_report\n",
    "from sklearn.metrics import confusion_matrix\n",
    "from sklearn.metrics import accuracy_score"
   ]
  },
  {
   "cell_type": "code",
   "execution_count": 5,
   "metadata": {},
   "outputs": [],
   "source": [
    "#TRAIN \n",
    "features = np.array(train[['Distancia_NEW','Lattitude','Longtitude','Landsize']])\n",
    "labels = np.array(train['precio_div'])"
   ]
  },
  {
   "cell_type": "code",
   "execution_count": 6,
   "metadata": {},
   "outputs": [],
   "source": [
    "#TEST\n",
    "features_t = np.array(test[['Distancia_NEW','Lattitude','Longtitude','Landsize']])\n",
    "labels_t = np.array(test['precio_div'])"
   ]
  },
  {
   "cell_type": "code",
   "execution_count": 7,
   "metadata": {},
   "outputs": [
    {
     "data": {
      "text/plain": [
       "LogisticRegression()"
      ]
     },
     "execution_count": 7,
     "metadata": {},
     "output_type": "execute_result"
    }
   ],
   "source": [
    "# Create logistic regression model\n",
    "\n",
    "model = linear_model.LogisticRegression()\n",
    "\n",
    "#Train the model\n",
    "model.fit(features, labels)#The first is a matrix of features, and the second is a matrix of class labels. "
   ]
  },
  {
   "cell_type": "markdown",
   "metadata": {},
   "source": [
    "Evaluamos como de bueno ha sido el ajuste del modelo sobre los propios datos de entrenamiento.  "
   ]
  },
  {
   "cell_type": "code",
   "execution_count": 8,
   "metadata": {},
   "outputs": [
    {
     "name": "stdout",
     "output_type": "stream",
     "text": [
      "0.6195357730918362\n"
     ]
    }
   ],
   "source": [
    "predictions= model.predict(features)\n",
    "print(accuracy_score(labels, predictions))"
   ]
  },
  {
   "cell_type": "markdown",
   "metadata": {},
   "source": [
    "Validamos el modelos usando los datos de test. "
   ]
  },
  {
   "cell_type": "code",
   "execution_count": 9,
   "metadata": {},
   "outputs": [
    {
     "name": "stdout",
     "output_type": "stream",
     "text": [
      "0.6236480738850407\n"
     ]
    }
   ],
   "source": [
    "#Validacion del modelo\n",
    "predictions_t= model.predict(features_t)\n",
    "print(accuracy_score(labels_t, predictions_t))"
   ]
  },
  {
   "cell_type": "markdown",
   "metadata": {},
   "source": [
    "Para obtener mas información sobre el modelo  procedemos a evaluar los resultados con un matriz de confusión  y un reporte de clasificación.  "
   ]
  },
  {
   "cell_type": "markdown",
   "metadata": {},
   "source": [
    "#### 1.1. Evaluación del modelo de Regresión Logística"
   ]
  },
  {
   "cell_type": "code",
   "execution_count": 10,
   "metadata": {},
   "outputs": [
    {
     "name": "stdout",
     "output_type": "stream",
     "text": [
      "              precision    recall  f1-score   support\n",
      "\n",
      "           0       0.64      0.56      0.59      4084\n",
      "           1       0.61      0.69      0.65      4145\n",
      "\n",
      "    accuracy                           0.62      8229\n",
      "   macro avg       0.63      0.62      0.62      8229\n",
      "weighted avg       0.63      0.62      0.62      8229\n",
      "\n"
     ]
    }
   ],
   "source": [
    "#Reporte de resultados del Modelo\n",
    "\n",
    "print(classification_report(labels_t , predictions_t))"
   ]
  },
  {
   "cell_type": "markdown",
   "metadata": {},
   "source": [
    "Podemos observar que la distribución entre ambas categorias es bastante homogénea,  al igual que el acierto en la predicción de cada una de ellas es parecida aunque ligeramente superior en la categoría de casas caras. \n",
    "\n",
    "F1 score  es 0.62  un valor que  se puede considerar como aceptable. "
   ]
  },
  {
   "cell_type": "code",
   "execution_count": 11,
   "metadata": {},
   "outputs": [
    {
     "data": {
      "image/png": "[encoded data removed]",
      "text/plain": [
       "<Figure size 432x288 with 1 Axes>"
      ]
     },
     "metadata": {
      "filenames": {
       "image/png": "/home/inma/Master_Data_Science _Contenido/Machine_learningI/Practica/Machine-Learning-I/MachinelearningI/_build/jupyter_execute/4-Aprendizaje_supervisado_21_0.png"
      },
      "needs_background": "light"
     },
     "output_type": "display_data"
    }
   ],
   "source": [
    "#dibujo de la Curva ROC\n",
    "\n",
    "from sklearn.metrics import roc_auc_score\n",
    "from sklearn.datasets import make_multilabel_classification\n",
    "from sklearn.multioutput import MultiOutputClassifier\n",
    "from sklearn.metrics import plot_roc_curve\n",
    "from sklearn.datasets import load_wine\n",
    "from sklearn.model_selection import train_test_split\n",
    "\n",
    "rlog_disp = plot_roc_curve(model, features, labels)\n",
    "plt.show()\n"
   ]
  },
  {
   "cell_type": "markdown",
   "metadata": {},
   "source": [
    "### 2. K- NEAREST NEIGHBORS (KNN )\n",
    "\n"
   ]
  },
  {
   "cell_type": "code",
   "execution_count": 12,
   "metadata": {},
   "outputs": [],
   "source": [
    "from sklearn.neighbors import KNeighborsClassifier\n",
    "from sklearn import metrics\n",
    "from sklearn.model_selection import train_test_split\n",
    "from sklearn.neighbors import KNeighborsClassifier"
   ]
  },
  {
   "cell_type": "code",
   "execution_count": 13,
   "metadata": {},
   "outputs": [],
   "source": [
    "# # SELECCION DE VARIABLES\n",
    "\n",
    "X = train[['Distancia_NEW','Lattitude','Longtitude','Landsize']].values\n",
    "y = train['precio_div'].values\n",
    "\n",
    "X_test=test[['Distancia_NEW','Lattitude','Longtitude','Landsize']].values\n",
    "y_test=test['precio_div'].values\n",
    " "
   ]
  },
  {
   "cell_type": "markdown",
   "metadata": {},
   "source": [
    "Para realizar  el modelo de Knn primero estandarizamos los datos. "
   ]
  },
  {
   "cell_type": "code",
   "execution_count": 14,
   "metadata": {},
   "outputs": [],
   "source": [
    "#NORMALIZACION\n",
    "from sklearn import preprocessing\n",
    "scaler = preprocessing.StandardScaler().fit(X)\n",
    "X = scaler.transform(X)\n",
    "X_test = scaler.transform(X_test)\n"
   ]
  },
  {
   "cell_type": "markdown",
   "metadata": {},
   "source": [
    "#### 2.1. Ajuste de hiperparametros "
   ]
  },
  {
   "cell_type": "markdown",
   "metadata": {},
   "source": [
    "Con el objetivo de elegir el mejor número de vecinos dibujamos una gráfica con todas las variables en un rango entre 0 y 20. "
   ]
  },
  {
   "cell_type": "code",
   "execution_count": 15,
   "metadata": {},
   "outputs": [
    {
     "data": {
      "text/plain": [
       "([<matplotlib.axis.XTick at 0x7f00dc1fbe50>,\n",
       "  <matplotlib.axis.XTick at 0x7f00dc1fbb20>,\n",
       "  <matplotlib.axis.XTick at 0x7f00dc202520>,\n",
       "  <matplotlib.axis.XTick at 0x7f00dc223580>,\n",
       "  <matplotlib.axis.XTick at 0x7f00dc1b6430>],\n",
       " <a list of 5 Text major ticklabel objects>)"
      ]
     },
     "execution_count": 15,
     "metadata": {},
     "output_type": "execute_result"
    },
    {
     "data": {
      "image/png": "[encoded data removed]",
      "text/plain": [
       "<Figure size 432x288 with 1 Axes>"
      ]
     },
     "metadata": {
      "filenames": {
       "image/png": "/home/inma/Master_Data_Science _Contenido/Machine_learningI/Practica/Machine-Learning-I/MachinelearningI/_build/jupyter_execute/4-Aprendizaje_supervisado_29_1.png"
      },
      "needs_background": "light"
     },
     "output_type": "display_data"
    }
   ],
   "source": [
    "#ELEGIR EL MEJOR K \n",
    "\n",
    "k_range = range(1, 20)\n",
    "scores = []\n",
    "for k in k_range:\n",
    "     knn = KNeighborsClassifier(n_neighbors = k)\n",
    "     knn.fit(X, y)\n",
    "     scores.append(knn.score(X_test, y_test))\n",
    "\n",
    "plt.figure()\n",
    "plt.xlabel('k')\n",
    "plt.ylabel('accuracy')\n",
    "plt.scatter(k_range, scores)\n",
    "plt.xticks([0,5,10,15,20])"
   ]
  },
  {
   "cell_type": "markdown",
   "metadata": {},
   "source": [
    "Visualizando la gráfica anterior buscamos el valor de k que nos proporcione el mejor f1-score dentro del rango entre 1 y 10 vecinos. "
   ]
  },
  {
   "cell_type": "code",
   "execution_count": 16,
   "metadata": {},
   "outputs": [
    {
     "name": "stdout",
     "output_type": "stream",
     "text": [
      "7\n"
     ]
    }
   ],
   "source": [
    "\n",
    "#encontrar la mejor k \n",
    "\n",
    "best_k=0\n",
    "best_score=0\n",
    "neighbors=range(1,10,2)#considerara min_k=1, max_k=10, solo odd numbers \n",
    "for k in neighbors:\n",
    "    knn=KNeighborsClassifier(n_neighbors=k) #instantiante classifier\n",
    "    knn.fit(X, y )# fit model \n",
    "    knn_y_pred= knn.predict(X_test)\n",
    "    \n",
    "    #we will consider the optimal k to be the k that produce the highest f1 score\n",
    "    f1 = metrics.f1_score(y_test, knn_y_pred, pos_label='1')\n",
    "    if f1> best_score:\n",
    "        best_k= k \n",
    "        best_score =f1\n",
    "        \n",
    "print (best_k)"
   ]
  },
  {
   "cell_type": "markdown",
   "metadata": {},
   "source": [
    "Obtenemos que el mejor valor para k y por lo tanto procedemos a  entrenar nuestro modelo con el. Este dato corresponde con la gráfica anteriormente  visualizada. "
   ]
  },
  {
   "cell_type": "code",
   "execution_count": 17,
   "metadata": {},
   "outputs": [],
   "source": [
    "#instantiate the classifier with the optimal k, fir the model and make predictions\n",
    "knn=  KNeighborsClassifier(n_neighbors=best_k) \n",
    "knn.fit(X, y )\n",
    "knn_y_pred= knn.predict(X_test)"
   ]
  },
  {
   "cell_type": "markdown",
   "metadata": {},
   "source": [
    "#### 2.2 Evaluación del modelo de KNN"
   ]
  },
  {
   "cell_type": "code",
   "execution_count": 18,
   "metadata": {},
   "outputs": [
    {
     "name": "stdout",
     "output_type": "stream",
     "text": [
      "Accuracy of K-NN classifier on training set: 0.85\n"
     ]
    },
    {
     "name": "stdout",
     "output_type": "stream",
     "text": [
      "Accuracy of K-NN classifier on test set: 0.81\n"
     ]
    }
   ],
   "source": [
    "#Hiperparametros-\n",
    "n_neighbors = best_k\n",
    "#algorithm='brute'\n",
    "#p=1\n",
    "weights='distance'# uniforme ( todos los puntos son iguales )\n",
    "#n_jobs=-1\n",
    "\n",
    "classifier = KNeighborsClassifier(n_neighbors)\n",
    "\n",
    "# #Train the classifier\n",
    "classifier.fit(X,y)\n",
    "print('Accuracy of K-NN classifier on training set: {:.2f}'.format(classifier.score(X, y)))\n",
    "print('Accuracy of K-NN classifier on test set: {:.2f}'.format(classifier.score(X_test, y_test)))"
   ]
  },
  {
   "cell_type": "code",
   "execution_count": 19,
   "metadata": {},
   "outputs": [
    {
     "name": "stdout",
     "output_type": "stream",
     "text": [
      "[[3270  814]\n",
      " [ 716 3429]]\n"
     ]
    },
    {
     "name": "stdout",
     "output_type": "stream",
     "text": [
      "              precision    recall  f1-score   support\n",
      "\n",
      "           0       0.82      0.80      0.81      4084\n",
      "           1       0.81      0.83      0.82      4145\n",
      "\n",
      "    accuracy                           0.81      8229\n",
      "   macro avg       0.81      0.81      0.81      8229\n",
      "weighted avg       0.81      0.81      0.81      8229\n",
      "\n"
     ]
    }
   ],
   "source": [
    "#PRECISION DEL MODELO\n",
    "pred = classifier.predict(X_test)\n",
    "print(confusion_matrix(y_test, pred))\n",
    "print(classification_report(y_test, pred))"
   ]
  },
  {
   "cell_type": "markdown",
   "metadata": {},
   "source": [
    "Obtenemos un f1-score de 0.81 lo cual es bastante bueno. "
   ]
  },
  {
   "cell_type": "markdown",
   "metadata": {},
   "source": [
    "Representamos la curva ROC para ver como se comporta el modelo en relación a falsos positivos y  verdaderos positivos. "
   ]
  },
  {
   "cell_type": "code",
   "execution_count": 20,
   "metadata": {},
   "outputs": [
    {
     "data": {
      "image/png": "[encoded data removed]",
      "text/plain": [
       "<Figure size 432x288 with 1 Axes>"
      ]
     },
     "metadata": {
      "filenames": {
       "image/png": "/home/inma/Master_Data_Science _Contenido/Machine_learningI/Practica/Machine-Learning-I/MachinelearningI/_build/jupyter_execute/4-Aprendizaje_supervisado_39_0.png"
      },
      "needs_background": "light"
     },
     "output_type": "display_data"
    }
   ],
   "source": [
    "#Pintar curva ROC\n",
    "Knn_disp = plot_roc_curve(classifier, X, y)\n",
    "plt.show()"
   ]
  },
  {
   "cell_type": "markdown",
   "metadata": {},
   "source": [
    "### 3. SVM \n",
    "\n",
    "\n",
    "\n",
    "\n",
    "Primero sin normalizar y despues normalizando \n",
    "probar los difrentes kernels "
   ]
  },
  {
   "cell_type": "code",
   "execution_count": 21,
   "metadata": {},
   "outputs": [],
   "source": [
    "from sklearn.svm import SVC\n",
    "from sklearn import svm\n",
    "from sklearn.naive_bayes import GaussianNB"
   ]
  },
  {
   "cell_type": "code",
   "execution_count": 22,
   "metadata": {},
   "outputs": [],
   "source": [
    "X = train[['Distancia_NEW','Lattitude','Longtitude','Landsize']].values\n",
    "y = train['precio_div'].values\n",
    "\n",
    "X_test=test[['Distancia_NEW','Lattitude','Longtitude','Landsize']].values\n",
    "y_test=test['precio_div'].values"
   ]
  },
  {
   "cell_type": "markdown",
   "metadata": {},
   "source": [
    "Realizamos el modelo de SVM con los tres tipos de Kernel  más comunes Lineal, polinomico y rbf. Los tres con los mismos valores de C para evaluar cual tiene mejor resultado. "
   ]
  },
  {
   "cell_type": "markdown",
   "metadata": {},
   "source": [
    "Kernel Lineal "
   ]
  },
  {
   "cell_type": "code",
   "execution_count": 23,
   "metadata": {},
   "outputs": [],
   "source": [
    "#classifier = SVC(kernel = \"linear\", C = 2)\n",
    "#classifier.fit(X, y) \n",
    "#print(classifier.predict(X_test))\n",
    "#print(\"Kernel lineal\", classifier.score(X_test, Y_test))"
   ]
  },
  {
   "cell_type": "markdown",
   "metadata": {},
   "source": [
    "Kernel Polinómico"
   ]
  },
  {
   "cell_type": "code",
   "execution_count": 24,
   "metadata": {},
   "outputs": [],
   "source": [
    "#classifier = SVC(kernel = \"poly\",degree= 2, C = 2)\n",
    "#classifier.fit(X, y) \n",
    "#print(classifier.predict(X_test))\n",
    "#print(\"Kernel polinómico\", classifier.score(X_test, Y_test))"
   ]
  },
  {
   "cell_type": "markdown",
   "metadata": {},
   "source": [
    "Kernel RBF"
   ]
  },
  {
   "cell_type": "code",
   "execution_count": 25,
   "metadata": {},
   "outputs": [
    {
     "name": "stdout",
     "output_type": "stream",
     "text": [
      "Kernel rbf 0.7059180945436869\n"
     ]
    }
   ],
   "source": [
    "classifier = SVC(kernel = \"rbf\", gamma = 0.3, C = 2)\n",
    "classifier.fit(X, y) \n",
    "#print(classifier.predict(X_test))\n",
    "print(\"Kernel rbf\", classifier.score(X_test, y_test))"
   ]
  },
  {
   "cell_type": "markdown",
   "metadata": {},
   "source": [
    "El modelo que mejor resultado obtiene es el propuesto con kernel \"rbf\". Normalizamos los datos para observar si mejora el rendimiento."
   ]
  },
  {
   "cell_type": "code",
   "execution_count": 24,
   "metadata": {},
   "outputs": [
    {
     "name": "stdout",
     "output_type": "stream",
     "text": [
      " Kernel rbf con datos normalizados:  0.7702106810387065\n"
     ]
    }
   ],
   "source": [
    "#NORMALIZACION\n",
    "\n",
    "scaler = preprocessing.StandardScaler().fit(X)\n",
    "X_norm = scaler.transform(X)\n",
    "X_test_norm = scaler.transform(X_test)\n",
    "\n",
    "\n",
    "#Prediccion con datos normalizados \n",
    "\n",
    "\n",
    "classifier = SVC(kernel = \"rbf\", gamma = 0.3, C = 2)\n",
    "classifier.fit(X_norm, y) \n",
    "#print(classifier.predict(X_test))\n",
    "print(\" Kernel rbf con datos normalizados: \", classifier.score(X_test_norm, y_test))"
   ]
  },
  {
   "cell_type": "markdown",
   "metadata": {},
   "source": [
    "#### 3.1.Ajuste de hiperparametros\n",
    "\n",
    "Hemos obtenido que normalizando los datos y usando el Kernel 'rbf'  obtenemos los mejores resultados , partiremos de esa base para el cálculo de hiperparámetros.\n",
    "\n",
    "Aplicamos esta técnica para probar diferentes C y Gammas. "
   ]
  },
  {
   "cell_type": "code",
   "execution_count": 25,
   "metadata": {},
   "outputs": [],
   "source": [
    "from sklearn.model_selection import GridSearchCV\n",
    "\n",
    "#define the hyperparameters we want to tune \n",
    "param_grid={\n",
    "            'kernel':['rbf'],\n",
    "            'C':[0.001,0.01,0.1,1,10],\n",
    "            'gamma': [0.001,0.01,0.1,1],\n",
    "            }\n",
    "\n",
    "#instantiate GridSearchCV fit model, and male prediction\n",
    "\n",
    "gs_svc=GridSearchCV(SVC(), param_grid=param_grid)\n",
    "gs_svc.fit(X_norm,y)\n",
    "c=gs_svc.predict(X_test_norm)\n"
   ]
  },
  {
   "cell_type": "code",
   "execution_count": 26,
   "metadata": {},
   "outputs": [
    {
     "name": "stdout",
     "output_type": "stream",
     "text": [
      "{'kernel': ['rbf'], 'C': [0.001, 0.01, 0.1, 1, 10], 'gamma': [0.001, 0.01, 0.1, 1]}\n"
     ]
    }
   ],
   "source": [
    "print(param_grid)\n"
   ]
  },
  {
   "cell_type": "code",
   "execution_count": 31,
   "metadata": {},
   "outputs": [
    {
     "name": "stdout",
     "output_type": "stream",
     "text": [
      "0.801812836844684\n"
     ]
    }
   ],
   "source": [
    "print(gs_svc.score(X_test_norm, y_test))"
   ]
  },
  {
   "cell_type": "markdown",
   "metadata": {},
   "source": [
    "Tras el ajuste de los hiperparámetros el resultado obtenido por svm  alcanza mi un porcetaje muy elevado. "
   ]
  },
  {
   "cell_type": "code",
   "execution_count": 35,
   "metadata": {},
   "outputs": [
    {
     "name": "stdout",
     "output_type": "stream",
     "text": [
      "              precision    recall  f1-score   support\n",
      "\n",
      "           0       0.82      0.76      0.79      4040\n",
      "           1       0.78      0.84      0.81      4124\n",
      "\n",
      "    accuracy                           0.80      8164\n",
      "   macro avg       0.80      0.80      0.80      8164\n",
      "weighted avg       0.80      0.80      0.80      8164\n",
      "\n"
     ]
    }
   ],
   "source": [
    "#PRECISION DEL MODELO\n",
    "pred = gs_svc.predict(X_test_norm)\n",
    "print(classification_report(y_test, pred))"
   ]
  },
  {
   "cell_type": "code",
   "execution_count": 30,
   "metadata": {},
   "outputs": [
    {
     "data": {
      "image/png": "[encoded data removed]",
      "text/plain": [
       "<Figure size 432x288 with 1 Axes>"
      ]
     },
     "metadata": {
      "filenames": {
       "image/png": "/home/inma/Master_Data_Science _Contenido/Machine_learningI/Practica/Machine-Learning-I/MachinelearningI/_build/jupyter_execute/4-Aprendizaje_supervisado_58_0.png"
      },
      "needs_background": "light"
     },
     "output_type": "display_data"
    }
   ],
   "source": [
    "svm_roc = plot_roc_curve(gs_svc, X_norm, y)\n",
    "plt.show()"
   ]
  },
  {
   "cell_type": "markdown",
   "metadata": {},
   "source": [
    "## Evaluacion del punto de corte \n",
    "\n",
    "Para elegir el mejor punto de corte  para la categorizacion binaria del precio de las casas en caras y baratas vamos a utilzar la curva ROC. \n",
    "\n",
    "\n",
    "En el siguiente gráfico, Figura 1, se representa la curva ROC y el punto de\n",
    "corte que maximiza el K-S, que se corresponde con el punto en la curva\n",
    "ROC cuya distancia horizontal al eje es máxima "
   ]
  },
  {
   "cell_type": "code",
   "execution_count": 36,
   "metadata": {},
   "outputs": [
    {
     "ename": "NameError",
     "evalue": "name 'Knn_disp' is not defined",
     "output_type": "error",
     "traceback": [
      "\u001b[0;31m---------------------------------------------------------------------------\u001b[0m",
      "\u001b[0;31mNameError\u001b[0m                                 Traceback (most recent call last)",
      "\u001b[0;32m<ipython-input-36-a47c7c7975e8>\u001b[0m in \u001b[0;36m<module>\u001b[0;34m\u001b[0m\n\u001b[1;32m      8\u001b[0m \u001b[0max\u001b[0m \u001b[0;34m=\u001b[0m \u001b[0mplt\u001b[0m\u001b[0;34m.\u001b[0m\u001b[0mgca\u001b[0m\u001b[0;34m(\u001b[0m\u001b[0;34m)\u001b[0m\u001b[0;34m\u001b[0m\u001b[0;34m\u001b[0m\u001b[0m\n\u001b[1;32m      9\u001b[0m \u001b[0mrlog_disp\u001b[0m\u001b[0;34m.\u001b[0m\u001b[0mplot\u001b[0m\u001b[0;34m(\u001b[0m\u001b[0max\u001b[0m\u001b[0;34m=\u001b[0m\u001b[0max\u001b[0m\u001b[0;34m,\u001b[0m \u001b[0malpha\u001b[0m\u001b[0;34m=\u001b[0m\u001b[0;36m0.8\u001b[0m\u001b[0;34m)\u001b[0m\u001b[0;34m\u001b[0m\u001b[0;34m\u001b[0m\u001b[0m\n\u001b[0;32m---> 10\u001b[0;31m \u001b[0mKnn_disp\u001b[0m\u001b[0;34m.\u001b[0m\u001b[0mplot\u001b[0m\u001b[0;34m(\u001b[0m\u001b[0max\u001b[0m\u001b[0;34m=\u001b[0m\u001b[0max\u001b[0m\u001b[0;34m,\u001b[0m \u001b[0malpha\u001b[0m\u001b[0;34m=\u001b[0m\u001b[0;36m0.8\u001b[0m\u001b[0;34m)\u001b[0m\u001b[0;34m\u001b[0m\u001b[0;34m\u001b[0m\u001b[0m\n\u001b[0m\u001b[1;32m     11\u001b[0m \u001b[0msvm_roc\u001b[0m\u001b[0;34m.\u001b[0m\u001b[0mplot\u001b[0m\u001b[0;34m(\u001b[0m\u001b[0max\u001b[0m\u001b[0;34m=\u001b[0m\u001b[0max\u001b[0m\u001b[0;34m,\u001b[0m \u001b[0malpha\u001b[0m\u001b[0;34m=\u001b[0m\u001b[0;36m0.8\u001b[0m\u001b[0;34m)\u001b[0m\u001b[0;34m\u001b[0m\u001b[0;34m\u001b[0m\u001b[0m\n\u001b[1;32m     12\u001b[0m \u001b[0mplt\u001b[0m\u001b[0;34m.\u001b[0m\u001b[0mshow\u001b[0m\u001b[0;34m(\u001b[0m\u001b[0;34m)\u001b[0m\u001b[0;34m\u001b[0m\u001b[0;34m\u001b[0m\u001b[0m\n",
      "\u001b[0;31mNameError\u001b[0m: name 'Knn_disp' is not defined"
     ]
    },
    {
     "data": {
      "image/png": "[encoded data removed]",
      "text/plain": [
       "<Figure size 432x288 with 1 Axes>"
      ]
     },
     "metadata": {
      "filenames": {
       "image/png": "/home/inma/Master_Data_Science _Contenido/Machine_learningI/Practica/Machine-Learning-I/MachinelearningI/_build/jupyter_execute/4-Aprendizaje_supervisado_60_1.png"
      },
      "needs_background": "light"
     },
     "output_type": "display_data"
    }
   ],
   "source": [
    "from sklearn.metrics import roc_auc_score\n",
    "from sklearn.datasets import make_multilabel_classification\n",
    "from sklearn.multioutput import MultiOutputClassifier\n",
    "from sklearn.metrics import plot_roc_curve\n",
    "from sklearn.datasets import load_wine\n",
    "from sklearn.model_selection import train_test_split\n",
    "\n",
    "ax = plt.gca()\n",
    "rlog_disp.plot(ax=ax, alpha=0.8)\n",
    "Knn_disp.plot(ax=ax, alpha=0.8)\n",
    "svm_roc.plot(ax=ax, alpha=0.8)\n",
    "plt.show()"
   ]
  },
  {
   "cell_type": "code",
   "execution_count": null,
   "metadata": {},
   "outputs": [],
   "source": []
  }
 ],
 "metadata": {
  "kernelspec": {
   "display_name": "Python 3",
   "language": "python",
   "name": "python3"
  },
  "language_info": {
   "codemirror_mode": {
    "name": "ipython",
    "version": 3
   },
   "file_extension": ".py",
   "mimetype": "text/x-python",
   "name": "python",
   "nbconvert_exporter": "python",
   "pygments_lexer": "ipython3",
   "version": "3.8.3"
  }
 },
 "nbformat": 4,
 "nbformat_minor": 4
}