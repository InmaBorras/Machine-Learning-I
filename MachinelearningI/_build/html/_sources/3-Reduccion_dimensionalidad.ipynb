{
 "cells": [
  {
   "cell_type": "markdown",
   "metadata": {},
   "source": [
    "# 3. Técnicas de reduccion de la dimensionalidad\n",
    "\n",
    "Seleccionamos una de las técnias de reduccion de la dimensionalidad para observar como influyen en los modelos. \n",
    " \n",
    "## PCA \n",
    "\n",
    "En primer lugar,  visuliazamos las correlación entre las difrentes variables par eliminar las que son rependintes "
   ]
  },
  {
   "cell_type": "code",
   "execution_count": 2,
   "metadata": {},
   "outputs": [],
   "source": [
    "import numpy as np\n",
    "import pandas as pd\n",
    "import statsmodels.api as sm\n",
    "\n",
    "# Gráficos\n",
    "import matplotlib.pyplot as plt\n",
    "import matplotlib.font_manager\n",
    "from matplotlib import style\n",
    "\n",
    "# Preprocesado y modelado\n",
    "\n",
    "from sklearn.decomposition import PCA\n",
    "from sklearn.pipeline import make_pipeline\n",
    "from sklearn.preprocessing import StandardScaler\n",
    "from sklearn.preprocessing import scale\n"
   ]
  },
  {
   "cell_type": "code",
   "execution_count": 3,
   "metadata": {},
   "outputs": [],
   "source": [
    "import warnings\n",
    "warnings.filterwarnings('ignore')\n",
    "datos = pd.read_csv('seleccion_variables_RF_bathandrooms.csv')\n"
   ]
  },
  {
   "cell_type": "code",
   "execution_count": 4,
   "metadata": {},
   "outputs": [],
   "source": [
    "datos=datos.drop(columns=['Unnamed: 0'])\n",
    "datos=datos.drop(columns=['Propertycount'])\n",
    "datos=datos.drop(columns=['Postcode'])\n",
    "\n",
    "corr_matrix=datos.corr(method='pearson')         \n",
    "max_corr=corr_matrix['Price'].sort_values(ascending=False)\n",
    "datos=datos.drop(columns=['Price'])"
   ]
  },
  {
   "cell_type": "code",
   "execution_count": 5,
   "metadata": {},
   "outputs": [
    {
     "name": "stdout",
     "output_type": "stream",
     "text": [
      "los maximos que correlan con Rooms son: Rooms            1.000000\n",
      "Bathroom         0.625743\n",
      "Car              0.428386\n",
      "Distance         0.284897\n",
      "Distancia_NEW    0.231615\n",
      "Longtitude       0.081002\n",
      "Location_TRA     0.062583\n",
      "Landsize         0.038109\n",
      "BathsAndRooms    0.035481\n",
      "Lattitude        0.030054\n",
      "Name: Rooms, dtype: float64\n",
      "los maximos que correlan con Distance son: Distance         1.000000\n",
      "Distancia_NEW    0.724924\n",
      "Rooms            0.284897\n",
      "Car              0.270078\n",
      "Longtitude       0.236580\n",
      "Bathroom         0.146762\n",
      "Landsize         0.062874\n",
      "Location_TRA     0.007773\n",
      "BathsAndRooms   -0.013025\n",
      "Lattitude       -0.075039\n",
      "Name: Distance, dtype: float64\n",
      "los maximos que correlan con Bathroom son: Bathroom         1.000000\n",
      "Rooms            0.625743\n",
      "Car              0.337007\n",
      "Distance         0.146762\n",
      "Longtitude       0.090214\n",
      "Distancia_NEW    0.089090\n",
      "Landsize         0.046138\n",
      "BathsAndRooms    0.040813\n",
      "Location_TRA    -0.003984\n",
      "Lattitude       -0.035103\n",
      "Name: Bathroom, dtype: float64\n",
      "los maximos que correlan con Car son: Car              1.000000\n",
      "Rooms            0.428386\n",
      "Bathroom         0.337007\n",
      "Distance         0.270078\n",
      "Distancia_NEW    0.204149\n",
      "Longtitude       0.055181\n",
      "Landsize         0.041337\n",
      "Location_TRA     0.027611\n",
      "BathsAndRooms    0.014376\n",
      "Lattitude        0.006095\n",
      "Name: Car, dtype: float64\n",
      "los maximos que correlan con Landsize son: Landsize         1.000000\n",
      "Distance         0.062874\n",
      "Bathroom         0.046138\n",
      "Car              0.041337\n",
      "Distancia_NEW    0.039207\n",
      "Rooms            0.038109\n",
      "Location_TRA     0.025144\n",
      "Lattitude        0.018692\n",
      "Longtitude       0.015676\n",
      "BathsAndRooms    0.000535\n",
      "Name: Landsize, dtype: float64\n",
      "los maximos que correlan con Distancia_NEW son: Distancia_NEW    1.000000\n",
      "Distance         0.724924\n",
      "Lattitude        0.241356\n",
      "Rooms            0.231615\n",
      "Car              0.204149\n",
      "Location_TRA     0.144512\n",
      "Bathroom         0.089090\n",
      "Landsize         0.039207\n",
      "BathsAndRooms   -0.030119\n",
      "Longtitude      -0.300525\n",
      "Name: Distancia_NEW, dtype: float64\n",
      "los maximos que correlan con Longtitude son: Longtitude       1.000000\n",
      "Distance         0.236580\n",
      "Bathroom         0.090214\n",
      "Rooms            0.081002\n",
      "Car              0.055181\n",
      "Landsize         0.015676\n",
      "Location_TRA     0.014164\n",
      "BathsAndRooms    0.014132\n",
      "Distancia_NEW   -0.300525\n",
      "Lattitude       -0.336226\n",
      "Name: Longtitude, dtype: float64\n",
      "los maximos que correlan con Lattitude son: Lattitude        1.000000\n",
      "Location_TRA     0.936379\n",
      "Distancia_NEW    0.241356\n",
      "Rooms            0.030054\n",
      "Landsize         0.018692\n",
      "Car              0.006095\n",
      "BathsAndRooms   -0.011266\n",
      "Bathroom        -0.035103\n",
      "Distance        -0.075039\n",
      "Longtitude      -0.336226\n",
      "Name: Lattitude, dtype: float64\n",
      "los maximos que correlan con Location_TRA son: Location_TRA     1.000000\n",
      "Lattitude        0.936379\n",
      "Distancia_NEW    0.144512\n",
      "Rooms            0.062583\n",
      "Car              0.027611\n",
      "Landsize         0.025144\n",
      "Longtitude       0.014164\n",
      "Distance         0.007773\n",
      "Bathroom        -0.003984\n",
      "BathsAndRooms   -0.006760\n",
      "Name: Location_TRA, dtype: float64\n",
      "los maximos que correlan con BathsAndRooms son: BathsAndRooms    1.000000\n",
      "Bathroom         0.040813\n",
      "Rooms            0.035481\n",
      "Car              0.014376\n",
      "Longtitude       0.014132\n",
      "Landsize         0.000535\n",
      "Location_TRA    -0.006760\n",
      "Lattitude       -0.011266\n",
      "Distance        -0.013025\n",
      "Distancia_NEW   -0.030119\n",
      "Name: BathsAndRooms, dtype: float64\n"
     ]
    }
   ],
   "source": [
    "for i in datos.columns:\n",
    "    if(isinstance(datos[str(i)].iloc[0], ( np.int64))  or isinstance(datos[str(i)].iloc[0],(np.float64))):\n",
    "        corr_matrix=datos.corr(method='pearson')         \n",
    "        max_corr=corr_matrix[str(i)].sort_values(ascending=False)\n",
    "        print('los maximos que correlan con '+str(i)+\" son: \"+str(max_corr))\n",
    "    else:\n",
    "        datos=datos.drop(columns=[str(i)])"
   ]
  },
  {
   "cell_type": "markdown",
   "metadata": {},
   "source": [
    "Después de este análisis de correlación vemos que debemos eliminar los siguientes variables: Bathroom' , 'Distance' , 'Car' y 'BathsAndRooms'."
   ]
  },
  {
   "cell_type": "code",
   "execution_count": null,
   "metadata": {},
   "outputs": [
    {
     "name": "stdout",
     "output_type": "stream",
     "text": [
      "--Return--\n",
      "None\n",
      "> \u001b[0;32m<ipython-input-6-28abfcad6d4a>\u001b[0m(5)\u001b[0;36m<module>\u001b[0;34m()\u001b[0m\n",
      "\u001b[0;32m      3 \u001b[0;31m\u001b[0mdatos\u001b[0m\u001b[0;34m.\u001b[0m\u001b[0mmean\u001b[0m\u001b[0;34m(\u001b[0m\u001b[0maxis\u001b[0m\u001b[0;34m=\u001b[0m\u001b[0;36m0\u001b[0m\u001b[0;34m)\u001b[0m\u001b[0;34m\u001b[0m\u001b[0;34m\u001b[0m\u001b[0m\n",
      "\u001b[0m\u001b[0;32m      4 \u001b[0;31m\u001b[0;34m\u001b[0m\u001b[0m\n",
      "\u001b[0m\u001b[0;32m----> 5 \u001b[0;31m\u001b[0;32mimport\u001b[0m \u001b[0mpdb\u001b[0m\u001b[0;34m;\u001b[0m\u001b[0mpdb\u001b[0m\u001b[0;34m.\u001b[0m\u001b[0mset_trace\u001b[0m\u001b[0;34m(\u001b[0m\u001b[0;34m)\u001b[0m\u001b[0;34m\u001b[0m\u001b[0;34m\u001b[0m\u001b[0m\n",
      "\u001b[0m\u001b[0;32m      6 \u001b[0;31m\u001b[0mdatos\u001b[0m \u001b[0;34m=\u001b[0m \u001b[0mdatos\u001b[0m\u001b[0;34m.\u001b[0m\u001b[0mapply\u001b[0m \u001b[0;34m(\u001b[0m\u001b[0mpd\u001b[0m\u001b[0;34m.\u001b[0m\u001b[0mto_numeric\u001b[0m\u001b[0;34m,\u001b[0m \u001b[0merrors\u001b[0m\u001b[0;34m=\u001b[0m\u001b[0;34m'coerce'\u001b[0m\u001b[0;34m)\u001b[0m\u001b[0;34m\u001b[0m\u001b[0;34m\u001b[0m\u001b[0m\n",
      "\u001b[0m\u001b[0;32m      7 \u001b[0;31m\u001b[0;34m\u001b[0m\u001b[0m\n",
      "\u001b[0m\n"
     ]
    }
   ],
   "source": [
    "datos=datos.drop(columns=['Bathroom','Distance','Car','BathsAndRooms'])\n",
    "\n",
    "datos.mean(axis=0)\n",
    "\n",
    "import pdb;pdb.set_trace()\n",
    "datos = datos.apply (pd.to_numeric, errors='coerce')\n",
    "\n",
    "datos = datos.dropna()\n",
    "datos.reset_index(drop=True)\n",
    "\n",
    "print('-------------------------')\n",
    "print('Varianza de cada variable')\n",
    "print('-------------------------')\n",
    "datos.var(axis=0)"
   ]
  },
  {
   "cell_type": "markdown",
   "metadata": {},
   "source": [
    "Entrenamiento modelo PCA con escalado de los datos julia  datos=datos.drop(columns=['Longtitude','Lattitude'])"
   ]
  },
  {
   "cell_type": "code",
   "execution_count": null,
   "metadata": {},
   "outputs": [],
   "source": [
    "pca_pipe = make_pipeline(StandardScaler(), PCA())\n",
    "pca_pipe.fit(datos)\n",
    "import pdb;pdb.set_trace()\n",
    "\n",
    "# Se extrae el modelo entrenado del pipeline\n",
    "modelo_pca = pca_pipe.named_steps['pca']\n",
    "\n",
    "import pdb;pdb.set_trace()\n",
    "\n",
    "# Se combierte el array a dataframe para añadir nombres a los ejes.\n",
    "componentes_df=pd.DataFrame(data    = modelo_pca.components_,columns = datos.columns,index   = ['PC1', 'PC2', 'PC3', 'PC4','PC5'])\n",
    "\n",
    "import pdb;pdb.set_trace()"
   ]
  },
  {
   "cell_type": "markdown",
   "metadata": {},
   "source": [
    "Realizamos una visualizacion de las componentes y decidimos cual borrar "
   ]
  },
  {
   "cell_type": "code",
   "execution_count": null,
   "metadata": {},
   "outputs": [],
   "source": [
    "fig, ax = plt.subplots(nrows=1, ncols=1, figsize=(4, 2))\n",
    "componentes = modelo_pca.components_\n",
    "plt.imshow(componentes.T, cmap='viridis', aspect='auto')\n",
    "plt.yticks(range(len(datos.columns)), datos.columns)\n",
    "plt.xticks(range(len(datos.columns)), np.arange(modelo_pca.n_components_) + 1)\n",
    "plt.grid(False)\n",
    "plt.colorbar();"
   ]
  },
  {
   "cell_type": "markdown",
   "metadata": {},
   "source": [
    "Explicamos el porcentaje de varianza explicada por cada componente."
   ]
  },
  {
   "cell_type": "code",
   "execution_count": null,
   "metadata": {},
   "outputs": [],
   "source": [
    "print('----------------------------------------------------')\n",
    "print('Porcentaje de varianza explicada por cada componente')\n",
    "print('----------------------------------------------------')\n",
    "print(modelo_pca.explained_variance_ratio_)\n",
    "\n",
    "fig, ax = plt.subplots(nrows=1, ncols=1, figsize=(6, 4))\n",
    "ax.bar(\n",
    "    x      = np.arange(modelo_pca.n_components_) + 1,\n",
    "    height = modelo_pca.explained_variance_ratio_\n",
    ")\n",
    "\n",
    "for x, y in zip(np.arange(len(datos.columns)) + 1, modelo_pca.explained_variance_ratio_):\n",
    "    label = round(y, 2)\n",
    "    ax.annotate(\n",
    "        label,\n",
    "        (x,y),\n",
    "        textcoords=\"offset points\",\n",
    "        xytext=(0,10),\n",
    "        ha='center'\n",
    "    )\n",
    "\n",
    "ax.set_xticks(np.arange(modelo_pca.n_components_) + 1)\n",
    "ax.set_ylim(0, 1.1)\n",
    "ax.set_title('Porcentaje de varianza explicada por cada componente')\n",
    "ax.set_xlabel('Componente principal')\n",
    "ax.set_ylabel('Por. varianza explicada');\n",
    "import pdb;pdb.set_trace()\n"
   ]
  },
  {
   "cell_type": "markdown",
   "metadata": {},
   "source": [
    "Utilizaremos estas PCA en los modelos a continuación. "
   ]
  }
 ],
 "metadata": {
  "kernelspec": {
   "display_name": "Python 3",
   "language": "python",
   "name": "python3"
  },
  "language_info": {
   "codemirror_mode": {
    "name": "ipython",
    "version": 3
   },
   "file_extension": ".py",
   "mimetype": "text/x-python",
   "name": "python",
   "nbconvert_exporter": "python",
   "pygments_lexer": "ipython3",
   "version": "3.8.3"
  }
 },
 "nbformat": 4,
 "nbformat_minor": 4
}
