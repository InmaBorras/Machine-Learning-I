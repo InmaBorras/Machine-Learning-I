{
 "cells": [
  {
   "cell_type": "markdown",
   "metadata": {},
   "source": [
    "# Evaluacion de modelos \n"
   ]
  },
  {
   "cell_type": "code",
   "execution_count": 1,
   "metadata": {},
   "outputs": [],
   "source": [
    "# Compare Algorithms\n",
    "import pandas as pd\n",
    "import matplotlib.pyplot as plt\n",
    "from sklearn import model_selection\n",
    "from sklearn.linear_model import LogisticRegression\n",
    "from sklearn.neighbors import KNeighborsClassifier\n",
    "from sklearn.ensemble import RandomForestClassifier\n",
    "from sklearn.tree import DecisionTreeClassifier\n",
    "from sklearn.svm import SVC\n",
    "from sklearn.metrics import make_scorer\n",
    "from sklearn.metrics import accuracy_score\n",
    "from sklearn.metrics import precision_score\n",
    "from sklearn.metrics import recall_score\n",
    "from sklearn.metrics import f1_score\n",
    "from sklearn.model_selection import cross_validate\n",
    "import seaborn as sns"
   ]
  },
  {
   "cell_type": "code",
   "execution_count": 2,
   "metadata": {},
   "outputs": [],
   "source": [
    "from sklearn.linear_model import LogisticRegression\n",
    "from sklearn.neighbors import KNeighborsClassifier\n",
    "from sklearn.tree import DecisionTreeClassifier\n",
    "from sklearn.ensemble import RandomForestClassifier\n",
    "from sklearn.svm import SVC\n"
   ]
  },
  {
   "cell_type": "code",
   "execution_count": 3,
   "metadata": {},
   "outputs": [],
   "source": [
    "\n",
    "dataframe = pd.read_csv('csv_precio_div.csv')\n",
    "features=['Rooms','Distance','Bathroom','Landsize','Lattitude','Longtitude']\n",
    "X = dataframe[features]\n",
    "y = dataframe['precio_div']\n"
   ]
  },
  {
   "cell_type": "code",
   "execution_count": 4,
   "metadata": {},
   "outputs": [
    {
     "name": "stderr",
     "output_type": "stream",
     "text": [
      "/home/inma/anaconda3/lib/python3.8/site-packages/seaborn/_decorators.py:36: FutureWarning: Pass the following variable as a keyword arg: x. From version 0.12, the only valid positional argument will be `data`, and passing other arguments without an explicit keyword will result in an error or misinterpretation.\n",
      "  warnings.warn(\n"
     ]
    },
    {
     "data": {
      "text/plain": [
       "Text(0.5, 1.0, 'Balanced Data Set')"
      ]
     },
     "execution_count": 4,
     "metadata": {},
     "output_type": "execute_result"
    },
    {
     "data": {
      "image/png": "[encoded data removed]",
      "text/plain": [
       "<Figure size 432x288 with 1 Axes>"
      ]
     },
     "metadata": {
      "needs_background": "light"
     },
     "output_type": "display_data"
    }
   ],
   "source": [
    "# Visualize the classes distributions\n",
    "sns.countplot(x=dataframe[\"precio_div\"]).set_title(\"Outcome Count\")\n",
    "# Comprobar que los datos estan balanceados\n",
    "sns.countplot(y).set_title('Balanced Data Set')\n"
   ]
  },
  {
   "cell_type": "code",
   "execution_count": 5,
   "metadata": {},
   "outputs": [
    {
     "ename": "SyntaxError",
     "evalue": "unexpected EOF while parsing (<ipython-input-5-fac0c450621d>, line 14)",
     "output_type": "error",
     "traceback": [
      "\u001b[0;36m  File \u001b[0;32m\"<ipython-input-5-fac0c450621d>\"\u001b[0;36m, line \u001b[0;32m14\u001b[0m\n\u001b[0;31m    def models_evaluation(X, y, folds):\u001b[0m\n\u001b[0m                                       ^\u001b[0m\n\u001b[0;31mSyntaxError\u001b[0m\u001b[0;31m:\u001b[0m unexpected EOF while parsing\n"
     ]
    }
   ],
   "source": [
    "# Instantiate the machine learning classifiers\n",
    "log_model = LogisticRegression(max_iter=10000)\n",
    "svc_model = SVC(C=50,gamma=1,kernel='rbf')\n",
    "dtr_model = DecisionTreeClassifier(criterion='entropy', max_depth=20, min_samples_leaf=10,\n",
    "                       min_samples_split=5)\n",
    "rfc_model = RandomForestClassifier(criterion='entropy', max_depth=20, min_samples_leaf=5,\n",
    "                       min_samples_split=5)\n",
    "KNN_model = KNeighborsClassifier(n_neighbors=7)\n",
    "scoring = {'accuracy':make_scorer(accuracy_score), \n",
    "           'precision':make_scorer(precision_score),\n",
    "           'recall':make_scorer(recall_score), \n",
    "           'f1_score':make_scorer(f1_score)}\n",
    "# Define the models evaluation function\n",
    "def models_evaluation(X, y, folds):"
   ]
  },
  {
   "cell_type": "code",
   "execution_count": null,
   "metadata": {},
   "outputs": [],
   "source": [
    "  # Perform cross-validation to each machine learning classifier\n",
    "    log = cross_validate(log_model, X, y, cv=folds, scoring=scoring)\n",
    "    svc = cross_validate(svc_model, X, y, cv=folds, scoring=scoring)\n",
    "    dtr = cross_validate(dtr_model, X, y, cv=folds, scoring=scoring)\n",
    "    rfc = cross_validate(rfc_model, X, y, cv=folds, scoring=scoring)\n",
    "    knn = cross_validate(KNN_model, X, y, cv=folds, scoring=scoring)"
   ]
  },
  {
   "cell_type": "code",
   "execution_count": null,
   "metadata": {},
   "outputs": [],
   "source": [
    "  # Create a data frame with the models perfoamnce metrics scores\n",
    "    models_scores_table = pd.DataFrame({'Logistic Regression':[log['test_accuracy'].mean(),\n",
    "                                                               log['test_precision'].mean(),\n",
    "                                                               log['test_recall'].mean(),\n",
    "                                                               log['test_f1_score'].mean()],\n",
    "                                       \n",
    "                                      'Support Vector Classifier':[svc['test_accuracy'].mean(),\n",
    "                                                                   svc['test_precision'].mean(),\n",
    "                                                                   svc['test_recall'].mean(),\n",
    "                                                                   svc['test_f1_score'].mean()],\n",
    "                                       \n",
    "                                      'Decision Tree':[dtr['test_accuracy'].mean(),\n",
    "                                                       dtr['test_precision'].mean(),\n",
    "                                                       dtr['test_recall'].mean(),\n",
    "                                                       dtr['test_f1_score'].mean()],\n",
    "                                       \n",
    "                                      'Random Forest':[rfc['test_accuracy'].mean(),\n",
    "                                                       rfc['test_precision'].mean(),\n",
    "                                                       rfc['test_recall'].mean(),\n",
    "                                                       rfc['test_f1_score'].mean()],\n",
    "                                       \n",
    "                                      'Gaussian Naive Bayes':[knn['test_accuracy'].mean(),\n",
    "                                                              knn['test_precision'].mean(),\n",
    "                                                              knn['test_recall'].mean(),\n",
    "                                                              knn['test_f1_score'].mean()]},\n",
    "                                      \n",
    "                                      index=['Accuracy', 'Precision', 'Recall', 'F1 Score'])"
   ]
  },
  {
   "cell_type": "code",
   "execution_count": null,
   "metadata": {},
   "outputs": [],
   "source": [
    " # Add 'Best Score' column\n",
    "models_scores_table['Best Score'] = models_scores_table.idxmax(axis=1)\n",
    "    \n",
    "# Return models performance metrics scores data frame\n",
    "return(models_scores_table)\n",
    "\n",
    "# Run models_evaluation function\n",
    "best_models_sccore=models_evaluation(X, y, 5) \n"
   ]
  },
  {
   "cell_type": "code",
   "execution_count": null,
   "metadata": {},
   "outputs": [],
   "source": [
    "seed = 7\n",
    "\n",
    "#para poder visualizarlos\n",
    "log_model = LogisticRegression(max_iter=10000)\n",
    "svc_model = SVC(dual=False)\n",
    "dtr_model = DecisionTreeClassifier()\n",
    "rfc_model = RandomForestClassifier()\n",
    "KNN_model = KNeighborsClassifier()\n",
    "\n",
    "models = []\n",
    "models.append(('LR', LogisticRegression(max_iter=10000)))\n",
    "models.append(('RFC', RandomForestClassifier(criterion='entropy', max_depth=20, min_samples_leaf=10,\n",
    "                       min_samples_split=5)))\n",
    "models.append(('KNN', KNeighborsClassifier(n_neighbors=7)))\n",
    "models.append(('DTC', DecisionTreeClassifier(criterion='entropy', max_depth=20, min_samples_leaf=10,\n",
    "                       min_samples_split=5)))\n",
    "models.append(('SVM', SVC(C=50,gamma=1,kernel='rbf')))\n",
    "\n",
    "\n",
    "\n",
    "results = []\n",
    "names = []\n",
    "scoring = {'accuracy':make_scorer(accuracy_score), \n",
    "           'precision':make_scorer(precision_score),\n",
    "           'recall':make_scorer(recall_score), \n",
    "           'f1_score':make_scorer(f1_score)}\n",
    "for score in scoring:\n",
    "    for name, model in models:\n",
    "        kfold = model_selection.KFold(n_splits=10, random_state=seed)\n",
    "        cv_results = model_selection.cross_val_score(model, X, Y, cv=kfold, scoring=score)\n",
    "        results.append(cv_results)\n",
    "        names.append(name)\n",
    "        msg = \"%s: %f (%f)\" % (name, cv_results.mean(), cv_results.std())\n",
    "        print(msg)\n",
    "    # boxplot algorithm comparison\n",
    "    fig = plt.figure()\n",
    "    fig.suptitle('Algorithm Comparison')\n",
    "    ax = fig.add_subplot(111)\n",
    "    plt.boxplot(results)\n",
    "    ax.set_xticklabels(names)\n",
    "    plt.show()"
   ]
  }
 ],
 "metadata": {
  "kernelspec": {
   "display_name": "Python 3",
   "language": "python",
   "name": "python3"
  },
  "language_info": {
   "codemirror_mode": {
    "name": "ipython",
    "version": 3
   },
   "file_extension": ".py",
   "mimetype": "text/x-python",
   "name": "python",
   "nbconvert_exporter": "python",
   "pygments_lexer": "ipython3",
   "version": "3.8.3"
  }
 },
 "nbformat": 4,
 "nbformat_minor": 4
}
