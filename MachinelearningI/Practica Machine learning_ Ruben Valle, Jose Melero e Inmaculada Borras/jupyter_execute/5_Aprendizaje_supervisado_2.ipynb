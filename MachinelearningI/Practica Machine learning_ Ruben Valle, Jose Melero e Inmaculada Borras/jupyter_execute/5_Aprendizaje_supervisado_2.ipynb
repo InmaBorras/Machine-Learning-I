{
 "cells": [
  {
   "cell_type": "markdown",
   "metadata": {},
   "source": [
    "### 3.4. Random Forest y Decision Tree"
   ]
  },
  {
   "cell_type": "code",
   "execution_count": 1,
   "metadata": {},
   "outputs": [],
   "source": [
    "import pdb\n",
    "import matplotlib.pyplot as plt\n",
    "import numpy as np\n",
    "import pylab\n",
    "#seleccion de variables ver si merece la pena meterlo\n",
    "from sklearn.linear_model import LogisticRegression\n",
    "from sklearn.model_selection import KFold\n",
    "from sklearn.ensemble import RandomForestRegressor\n",
    "from sklearn.feature_selection import SelectKBest\n",
    "from sklearn.model_selection import GridSearchCV\n",
    "from sklearn.model_selection import RepeatedKFold\n",
    "import pandas as pd \n",
    "\n",
    "#modelado del machine learning esto meter si o si\n",
    "from scipy.stats import pearsonr\n",
    "from sklearn.model_selection import train_test_split\n",
    "from sklearn.metrics import r2_score\n",
    "from sklearn.metrics import mean_squared_error\n",
    "import statsmodels.api as sm\n",
    "import statsmodels.formula.api as smf\n",
    "from statsmodels.stats.anova import anova_lm\n",
    "from scipy import stats\n",
    "\n",
    "import seaborn as sns\n",
    "\n",
    "\n",
    "from numpy import mean\n",
    "from numpy import std\n",
    "from sklearn.datasets import make_classification\n",
    "from sklearn.model_selection import cross_val_score\n",
    "from sklearn.model_selection import RepeatedStratifiedKFold\n",
    "from sklearn.ensemble import RandomForestClassifier\n",
    "from matplotlib import pyplot\n",
    "\n",
    "\n",
    "\n",
    "#para hacer el PCA\n",
    "from sklearn.decomposition import PCA\n",
    "from sklearn.pipeline import make_pipeline\n",
    "from sklearn.preprocessing import StandardScaler\n",
    "from sklearn.preprocessing import scale\n",
    "\n",
    "from sklearn.ensemble import RandomForestClassifier\n",
    "from sklearn.model_selection import train_test_split\n",
    "from sklearn.decomposition import PCA\n",
    "from sklearn import datasets\n",
    "from sklearn.metrics import accuracy_score\n",
    "\n",
    "\n",
    "\n",
    "import warnings\n",
    "warnings.filterwarnings('ignore')\n",
    "\n",
    "from numpy import mean\n",
    "from numpy import std\n",
    "from sklearn.datasets import make_classification\n",
    "from sklearn.model_selection import cross_val_score\n",
    "from sklearn.model_selection import RepeatedStratifiedKFold\n",
    "\n",
    "\n",
    "#para hacer VotingClassifier\n",
    "from sklearn.ensemble import VotingClassifier\n",
    "\n",
    "#PARA HACER EL GRADIENTE DEL ERROR\n",
    "\n",
    "#Decision Tree Regression with AdaBoost\n",
    "from sklearn.tree import DecisionTreeClassifier\n",
    "from sklearn.ensemble import AdaBoostClassifier\n",
    "\n",
    "\n",
    "\n",
    "\n",
    "from sklearn.metrics import make_scorer\n",
    "from sklearn.metrics import accuracy_score\n",
    "from sklearn.metrics import precision_score\n",
    "from sklearn.metrics import recall_score\n",
    "from sklearn.metrics import f1_score\n",
    "from sklearn.model_selection import cross_validate\n",
    "\n"
   ]
  },
  {
   "cell_type": "code",
   "execution_count": 2,
   "metadata": {},
   "outputs": [],
   "source": [
    "#from tune_sklearn import TuneGridSearchCV\n",
    "\n",
    "\n",
    "def get_models():\n",
    "    models = dict()\n",
    "# explore number of features from 1 to 7\n",
    "    for i in range(1,6):\n",
    "\t    models[str(i)] = RandomForestClassifier(max_features=i)\n",
    "    return models\n",
    "def get_models_estimator():\n",
    "    models = dict()\n",
    "\t# define number of trees to consider\n",
    "    n_trees = [10, 50, 100, 500, 1000]\n",
    "    for n in n_trees:\n",
    "    \tmodels[str(n)] = RandomForestClassifier(n_estimators=n)\n",
    "    return models\n",
    "\n",
    "def get_models_depth():\n",
    "    models = dict()\n",
    "\t# consider tree depths from 1 to 7 and None=full\n",
    "    depths = [i for i in range(1,20)] + [None]\n",
    "    for n in depths:\n",
    "    \tmodels[str(n)] = RandomForestClassifier(max_depth=n)\n",
    "    return models\n",
    "\n",
    "\n",
    "def get_models_DT():\n",
    "    models = dict()\n",
    "# explore number of features from 1 to 7\n",
    "    for i in range(1,15):\n",
    "\t    models[str(i)] = DecisionTreeClassifier(max_features=i)\n",
    "    return models"
   ]
  },
  {
   "cell_type": "code",
   "execution_count": 3,
   "metadata": {},
   "outputs": [],
   "source": [
    "def get_models_depth_DT():\n",
    "    models = dict()\n",
    "\t# consider tree depths from 1 to 7 and None=full\n",
    "    depths = [i for i in range(1,20)] + [None]\n",
    "    for n in depths:\n",
    "    \tmodels[str(n)] = DecisionTreeClassifier(max_depth=n)\n",
    "    return models\n",
    "def voting_forest_lineal(X,y):\n",
    "    r1 = LogisticRegression()\n",
    "    r2 = RandomForestClassifier(n_estimators=100,max_depth=7,max_features=6, random_state=1)\n",
    "    X_train, X_test, y_train, y_test = train_test_split(X, y, test_size=0.15, random_state=50)\n",
    "    import pdb;pdb.set_trace()\n",
    "    er = VotingClassifier([('lr', r1), ('rf', r2)])\n",
    "    er=er.fit(X_train, y_train)\n",
    "    resultado=er.predict(X_test)\n",
    "    RSS = mean_squared_error(y_test,resultado) \n",
    "\n",
    "    R_squared = er.score(X,y)"
   ]
  },
  {
   "cell_type": "code",
   "execution_count": 4,
   "metadata": {},
   "outputs": [],
   "source": [
    "def regressor_predictions(X,y):\n",
    "    X_train, X_test, y_train, y_test = train_test_split(X, y, test_size=0.15, random_state=50)\n",
    "\n",
    "    #HACER LA PREDICCION EN LA COMBINACION DE LOS 3 MODELOS Y DE MANERA INDIVDUAL\n",
    "    reg1 = DecisionTreeClassifier(random_state=1)\n",
    "    reg2 = RandomForestClassifier(random_state=1)\n",
    "    reg3 = LogisticRegression()\n",
    "\n",
    "    reg1.fit(X_train, y_train)\n",
    "    reg2.fit(X_train, y_train)\n",
    "    reg3.fit(X_train, y_train)\n",
    "\n",
    "    ereg = VotingClassifier([('gb', reg1), ('rf', reg2), ('lr', reg3)])\n",
    "    ereg.fit(X_train, y_train)\n",
    "\n",
    "\n",
    "    pred1 = reg1.predict(X_test)\n",
    "    pred2 = reg2.predict(X_test)\n",
    "    pred3 = reg3.predict(X_test)\n",
    "    pred4 = ereg.predict(X_test)\n",
    "    #hay estacionalidad al predecir desde septiembre a diciembre debido a factores(climatologicos,festivos, culturas,...)\n",
    "    #RSS = mean_squared_error(y_test,predictions) * len(y_test)\n",
    "    #R_squared = model.score(X,y)  RSS = mean_squared_error(y_test,pred4) * len(y_test)\n",
    "    #sale bastante mal el votingClassifier si se le incluye la regresion lineal ya que el error cuadratico medio es muy alto asi que lo quitamos.\n",
    "    ereg = VotingClassifier([('gb', reg1), ('rf', reg2)])\n",
    "    ereg.fit(X_train, y_train)\n",
    "    pred4 = ereg.predict(X_test)\n",
    "\n",
    "    RSS_gb = mean_squared_error(y_test,pred1)\n",
    "    RSS_rf = mean_squared_error(y_test,pred2) \n",
    "    RSS_lr = mean_squared_error(y_test,pred3) \n",
    "    RSS_vr = mean_squared_error(y_test,pred4) \n",
    "\n",
    "    print('error cuadratico medio con  Gradient Boosting es: '+ str(RSS_gb))\n",
    "    print('error cuadratico medio con  Random forest es: '+ str(RSS_rf))\n",
    "    print('error cuadratico medio con lineal regression es: '+ str(RSS_lr))\n",
    "    print('error cuadratico medio con voting regressor es: '+ str(RSS_vr))\n",
    "\n",
    "    #plt.plot(pred1, 'gd', label='GradientBoostingRegressor')\n",
    "    plt.plot(pred2, 'b^', label='RandomForestClassifier')\n",
    "    plt.plot(pred3, 'ys', label='LogisticRegression')\n",
    "    plt.plot(pred4, 'r*', ms=10, label='VotingClassifier')\n",
    "\n",
    "    plt.tick_params(axis='x', which='both', bottom=False, top=False,\n",
    "                    labelbottom=False)\n",
    "    plt.ylabel('predicted')\n",
    "    plt.xlabel('Muestras de test por dias ordenados')\n",
    "    plt.legend(loc=\"best\")\n",
    "    plt.title('prediccion de diferentes metodos de regresion del contador en el tiempo')\n",
    "\n",
    "    plt.show()"
   ]
  },
  {
   "cell_type": "code",
   "execution_count": 5,
   "metadata": {},
   "outputs": [],
   "source": [
    "def tree_adabost(X,y):\n",
    "    X_train, X_test, y_train, y_test = train_test_split(X, y, test_size=0.15, random_state=50)\n",
    "    rng = np.random.RandomState(1)\n",
    "\n",
    "    #COMPROBAR CUAL ES LA PROFUNDIDAD MAXIMA IDEAL PARA DECISION TREE REGRESOR Y MAX FEATURES PARA NO OVERFITTING\n",
    "    regr_1 = DecisionTreeClassifier(max_depth=4)\n",
    "\n",
    "    regr_2 = AdaBoostClassifier(DecisionTreeClassifier(max_depth=4,max_features=6),\n",
    "                            n_estimators=300, random_state=rng)\n",
    "\n",
    "    regr_1.fit(X_train, y_train)\n",
    "    regr_2.fit(X_train, y_train)\n",
    "\n",
    "    # Predict\n",
    "    y_1 = regr_1.predict(X_test)\n",
    "    y_2 = regr_2.predict(X_test)\n",
    "    import pdb;pdb.set_trace()\n",
    "\n",
    "    RSS_dt = mean_squared_error(y_test,y_1) \n",
    "    RSS_Ab = mean_squared_error(y_test,y_2) \n",
    "\n",
    "    print('error cuadratico medio con decision Tree es: '+ str(RSS_dt))\n",
    "    print('error cuadratico medio con Ada Boost es: '+ str(RSS_Ab))\n",
    "\n",
    "    # Plot the results  RSS = mean_squared_error(y_test,y_1) * len(y_test)\n",
    "    np_test=y_test.to_numpy()\n",
    "    plt.plot(y_1, 'gd', label='DecisionTreeClassifier')\n",
    "    plt.plot(y_2, 'b^', label='AdaBoostClassifier')\n",
    "    plt.plot(np_test, 'ys', label='reales')\n",
    "\n",
    "    plt.tick_params(axis='x', which='both', bottom=False, top=False,labelbottom=False)\n",
    "    plt.ylabel('predicted')\n",
    "    plt.xlabel('training samples')\n",
    "    plt.legend(loc=\"best\")\n",
    "    plt.title(\"Boosted Decision Tree Regression\")\n",
    "\n",
    "    plt.show()"
   ]
  },
  {
   "cell_type": "code",
   "execution_count": 6,
   "metadata": {},
   "outputs": [],
   "source": [
    "def decision_tree_depth(X,y):\n",
    "    X_train, X_final, y_train, y_final = train_test_split(X, y, test_size=0.15, random_state=50)\n",
    "    X_train, X_test, y_train, y_test = train_test_split(X_train, y_train, test_size=0.15, random_state=50)\n",
    "\n",
    "    #Multi-output Decision Tree Regression¶\n",
    "    # Fit regression model\n",
    "    regr_1 = DecisionTreeClassifier(max_depth=2)\n",
    "    regr_2 = DecisionTreeClassifier(max_depth=5)\n",
    "    regr_3 = DecisionTreeClassifier(max_depth=8)\n",
    "    regr_1.fit(X_train, y_train)\n",
    "    regr_2.fit(X_train, y_train)\n",
    "    regr_3.fit(X_train, y_train)\n",
    "\n",
    "    # Predict\n",
    "    y_1 = regr_1.predict(X_test)\n",
    "    y_2 = regr_2.predict(X_test)\n",
    "    y_3 = regr_3.predict(X_test)\n",
    "    import pdb;pdb.set_trace()\n",
    "    \n",
    "    RSS_2 = mean_squared_error(y_test,y_1) \n",
    "    RSS_5 = mean_squared_error(y_test,y_2) \n",
    "    RSS_8 = mean_squared_error(y_test,y_3) \n",
    "\n",
    "    print('error cuadratico medio con  profundidad de 2 es: '+ str(RSS_2))\n",
    "    print('error cuadratico medio con  profundidad de 5 es: '+ str(RSS_5))\n",
    "    print('error cuadratico medio con profundidad de 8 es: '+ str(RSS_8))\n",
    "\n",
    "    #R_squared = model.score(X,y)  RSS = mean_squared_error(y_test,y_3) * len(y_test)\n",
    "\n",
    "    # Plot the results\n",
    "    plt.plot(y_1, 'gd', label='max_depth=2')\n",
    "    plt.plot(y_2, 'b^', label='max_depth=5')\n",
    "    plt.plot(y_3, 'b^', label='max_depth=8')\n",
    "\n",
    "    plt.tick_params(axis='x', which='both', bottom=False, top=False,\n",
    "                    labelbottom=False)\n",
    "    plt.ylabel('predicted')\n",
    "    plt.xlabel('training samples')\n",
    "    plt.legend(loc=\"best\")\n",
    "    plt.title(\"Multi-output Decision Tree Regression\")\n",
    "\n",
    "    plt.show()"
   ]
  },
  {
   "cell_type": "code",
   "execution_count": 7,
   "metadata": {},
   "outputs": [],
   "source": [
    "# evaluate a given model using cross-validation\n",
    "def evaluate_model(model, X, y):\n",
    "\t# define the evaluation procedure\n",
    "\tcv = RepeatedStratifiedKFold(n_splits=10, n_repeats=3, random_state=1)\n",
    "\t# evaluate the model and collect the results\n",
    "\tscores = cross_val_score(model, X, y, scoring='roc_auc', cv=cv, n_jobs=-1)\n",
    "\treturn scores\n",
    "def evaluar_hiperparametros_modelo(models,X,y):\n",
    "    results, names = list(), list()\n",
    "    for name, model in models.items():\n",
    "        # evaluate the model\n",
    "        scores = evaluate_model(model, X, y)\n",
    "        # store the results\n",
    "        results.append(scores)\n",
    "        names.append(name)\n",
    "        # summarize the performance along the way\n",
    "        print('>%s %.3f (%.3f)' % (name, mean(scores), std(scores)))\n",
    "    # plot model performance for comparison\n",
    "    pyplot.boxplot(results, labels=names, showmeans=True)\n",
    "    pyplot.show()\n"
   ]
  },
  {
   "cell_type": "code",
   "execution_count": 8,
   "metadata": {},
   "outputs": [],
   "source": [
    "datos=pd.read_csv('./CSV/csv_precio_div.csv')\n",
    "\n",
    "\n",
    "features=['Rooms','Distance','Bathroom','Landsize','Lattitude','Longtitude']\n",
    "X=datos[features] \n",
    "y=datos['precio_div']\n",
    "\n",
    "scoring = {'accuracy':make_scorer(accuracy_score), \n",
    "           'precision':make_scorer(precision_score),\n",
    "           'recall':make_scorer(recall_score), \n",
    "           'f1_score':make_scorer(f1_score)}\n"
   ]
  },
  {
   "cell_type": "code",
   "execution_count": 9,
   "metadata": {},
   "outputs": [],
   "source": [
    "X_train, X_test, y_train, y_test = train_test_split(X, y, test_size=0.15, random_state=50)\n"
   ]
  },
  {
   "cell_type": "code",
   "execution_count": 10,
   "metadata": {},
   "outputs": [],
   "source": [
    "#otro tipo de calculo de hiperparametros a partir de gridsearchcvf\n",
    "param_grid= {'criterion': ['gini', 'entropy'],'max_depth': [None, 1 , 3, 5, 10],'min_samples_split': [5,10],'min_samples_leaf':[5,10]}\n",
    "\n",
    "gs_rf=GridSearchCV(RandomForestClassifier(),param_grid=param_grid)\n",
    "gs_rf.fit(X_train,y_train)\n",
    "y_pred=gs_rf.predict(X)\n",
    "\n",
    "param_grid= {'criterion': ['gini', 'entropy'],'max_depth': [None, 3 , 5, 10, 20],'min_samples_split': [5,10],'min_samples_leaf':[5,10]}\n",
    "\n",
    "gs_rf=GridSearchCV(DecisionTreeClassifier(),param_grid=param_grid)\n",
    "gs_rf.fit(X_train,y_train)\n",
    "y_pred=gs_rf.predict(X)"
   ]
  },
  {
   "cell_type": "markdown",
   "metadata": {},
   "source": [
    "# 4. Ajuste de hiperparámetros "
   ]
  },
  {
   "cell_type": "code",
   "execution_count": 11,
   "metadata": {},
   "outputs": [
    {
     "name": "stdout",
     "output_type": "stream",
     "text": [
      ">1 0.956 (0.003)\n",
      ">2 0.956 (0.003)\n",
      ">3 0.955 (0.003)\n",
      ">4 0.954 (0.003)\n",
      ">5 0.953 (0.003)\n"
     ]
    },
    {
     "data": {
      "image/png": "[encoded data removed]",
      "text/plain": [
       "<Figure size 432x288 with 1 Axes>"
      ]
     },
     "metadata": {
      "filenames": {
       "image/png": "/home/inma/Master_Data_Science _Contenido/Machine_learningI/Practica/Machine-Learning-I/MachinelearningI/_build/jupyter_execute/5_Aprendizaje_supervisado_2_12_1.png"
      },
      "needs_background": "light"
     },
     "output_type": "display_data"
    },
    {
     "name": "stdout",
     "output_type": "stream",
     "text": [
      ">1 0.840 (0.006)\n",
      ">2 0.844 (0.007)\n",
      ">3 0.844 (0.006)\n",
      ">4 0.847 (0.006)\n",
      ">5 0.846 (0.007)\n",
      ">6 0.845 (0.006)\n",
      ">7 nan (nan)\n",
      ">8 nan (nan)\n",
      ">9 nan (nan)\n",
      ">10 nan (nan)\n",
      ">11 nan (nan)\n",
      ">12 nan (nan)\n",
      ">13 nan (nan)\n",
      ">14 nan (nan)\n"
     ]
    },
    {
     "data": {
      "image/png": "[encoded data removed]",
      "text/plain": [
       "<Figure size 432x288 with 1 Axes>"
      ]
     },
     "metadata": {
      "filenames": {
       "image/png": "/home/inma/Master_Data_Science _Contenido/Machine_learningI/Practica/Machine-Learning-I/MachinelearningI/_build/jupyter_execute/5_Aprendizaje_supervisado_2_12_3.png"
      },
      "needs_background": "light"
     },
     "output_type": "display_data"
    },
    {
     "name": "stdout",
     "output_type": "stream",
     "text": [
      ">10 0.944 (0.003)\n",
      ">50 0.954 (0.003)\n",
      ">100 0.956 (0.003)\n",
      ">500 0.957 (0.003)\n",
      ">1000 0.957 (0.003)\n"
     ]
    },
    {
     "data": {
      "image/png": "[encoded data removed]",
      "text/plain": [
       "<Figure size 432x288 with 1 Axes>"
      ]
     },
     "metadata": {
      "filenames": {
       "image/png": "/home/inma/Master_Data_Science _Contenido/Machine_learningI/Practica/Machine-Learning-I/MachinelearningI/_build/jupyter_execute/5_Aprendizaje_supervisado_2_12_5.png"
      },
      "needs_background": "light"
     },
     "output_type": "display_data"
    },
    {
     "name": "stdout",
     "output_type": "stream",
     "text": [
      ">1 0.812 (0.011)\n",
      ">2 0.851 (0.007)\n",
      ">3 0.877 (0.006)\n",
      ">4 0.891 (0.006)\n",
      ">5 0.902 (0.005)\n",
      ">6 0.913 (0.005)\n",
      ">7 0.923 (0.004)\n",
      ">8 0.931 (0.004)\n",
      ">9 0.937 (0.004)\n",
      ">10 0.942 (0.004)\n",
      ">11 0.946 (0.004)\n",
      ">12 0.949 (0.003)\n",
      ">13 0.951 (0.004)\n",
      ">14 0.953 (0.003)\n",
      ">15 0.954 (0.003)\n",
      ">16 0.955 (0.003)\n",
      ">17 0.955 (0.003)\n",
      ">18 0.956 (0.003)\n",
      ">19 0.956 (0.003)\n",
      ">None 0.956 (0.003)\n"
     ]
    },
    {
     "data": {
      "image/png": "[encoded data removed]",
      "text/plain": [
       "<Figure size 432x288 with 1 Axes>"
      ]
     },
     "metadata": {
      "filenames": {
       "image/png": "/home/inma/Master_Data_Science _Contenido/Machine_learningI/Practica/Machine-Learning-I/MachinelearningI/_build/jupyter_execute/5_Aprendizaje_supervisado_2_12_7.png"
      },
      "needs_background": "light"
     },
     "output_type": "display_data"
    }
   ],
   "source": [
    "\n",
    "models = get_models()\n",
    "evaluar_hiperparametros_modelo(models,X,y)\n",
    "\n",
    "models = get_models_DT()\n",
    "evaluar_hiperparametros_modelo(models,X,y)\n",
    "  \n",
    "\n",
    "models =get_models_estimator()\n",
    "evaluar_hiperparametros_modelo(models,X,y)\n",
    "\n",
    "\n",
    "models =get_models_depth()\n",
    "evaluar_hiperparametros_modelo(models,X,y)\n",
    "\n"
   ]
  },
  {
   "cell_type": "code",
   "execution_count": null,
   "metadata": {},
   "outputs": [],
   "source": []
  }
 ],
 "metadata": {
  "kernelspec": {
   "display_name": "Python 3",
   "language": "python",
   "name": "python3"
  },
  "language_info": {
   "codemirror_mode": {
    "name": "ipython",
    "version": 3
   },
   "file_extension": ".py",
   "mimetype": "text/x-python",
   "name": "python",
   "nbconvert_exporter": "python",
   "pygments_lexer": "ipython3",
   "version": "3.8.3"
  }
 },
 "nbformat": 4,
 "nbformat_minor": 4
}