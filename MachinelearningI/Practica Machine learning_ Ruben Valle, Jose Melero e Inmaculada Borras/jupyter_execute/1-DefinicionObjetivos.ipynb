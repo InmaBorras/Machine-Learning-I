{
 "cells": [
  {
   "cell_type": "markdown",
   "metadata": {},
   "source": [
    "# 1. Analisis Inicial "
   ]
  },
  {
   "cell_type": "markdown",
   "metadata": {},
   "source": [
    "## 1.Introducción. "
   ]
  },
  {
   "cell_type": "markdown",
   "metadata": {},
   "source": [
    "\n",
    "Los precios de las viviendas en algunas capitales australianas han aumentado recientemente hasta el punto de que algunos describen esto como una burbuja emergente, pero esta afirmación sigue sin ser comprobada oficialmente.\n"
   ]
  },
  {
   "cell_type": "markdown",
   "metadata": {},
   "source": [
    "###  Objetivos\n",
    "\n",
    "El ojetivo del trabajo para las asignatura de Machine Learning I  consistirá evaluar las diferetes técnicas de aprendzaje supervisado y no supervidado, para el cálculo del precio de las viviendas en el área de la ciudad de Melburne (Australia). \n",
    "\n",
    "La prioridad se basa  en no clasificar las casas caras (positivo) como baratas (negativo). \n",
    "\n",
    "\n",
    "Los datos fueron obtenidos de la página de Kaggle \"https://www.kaggle.com/anthonypino/melbourne-housing-market\". \n",
    "\n",
    "\n",
    "\n",
    "### 1.2 Control de cambios\n",
    "\n",
    "Para la gestion del control de cambios se ha utilizado un repositorio git que puede encontrarse en https://github.com/InmaBorras/Machine-Learning-I\". \n",
    "\n",
    "gh repo clone InmaBorras/Machine-Learning-I\n"
   ]
  },
  {
   "cell_type": "markdown",
   "metadata": {},
   "source": [
    "## 2. Análisis Exploratorio Inicial (EDA) y Preparación de los datos \n",
    "\n",
    "Trás definir el objetivo de la práctica procedemos a hacer el analisis exploratorio de los datos , este trabajo ya lo relazamos en la práctica de Fundamentos de Datos, por lo que nos basaremos en el análisis previamente realizado. \n",
    "\n",
    "\n",
    "Para el proceso de limpieza de datos eliminamos los duplicados y procedimos a la detección  e imputacion de datos faltantes de datos faltantes.\n"
   ]
  },
  {
   "cell_type": "code",
   "execution_count": 1,
   "metadata": {},
   "outputs": [
    {
     "data": {
      "application/vnd.jupyter.widget-view+json": {
       "model_id": "07a7b60251ee41a0a51f91388705483d",
       "version_major": 2,
       "version_minor": 0
      },
      "text/plain": [
       "HBox(children=(FloatProgress(value=0.0, description='Summarize dataset', max=35.0, style=ProgressStyle(descrip…"
      ]
     },
     "metadata": {},
     "output_type": "display_data"
    }
   ],
   "source": [
    "import pandas as pd \n",
    "from pandas_profiling import ProfileReport\n",
    "data = pd.read_csv('./CSV/Melbourne_housing_FULL.csv')\n",
    "profile = ProfileReport(data, title=\"Pandas Profiling Report\")\n",
    "profile"
   ]
  },
  {
   "cell_type": "markdown",
   "metadata": {},
   "source": [
    "## 3. Seleccion de variables \n",
    "\n",
    "\n",
    "Nos basaremos igualmente en el análisis anterior  en el cual calculamos la variables que mas influian en el modelo siendo estas: \n",
    "\n",
    "    -Rooms            \n",
    "    -Bathroom         \n",
    "    -Distance         \n",
    "    -Distancia_NEW    \n",
    "    -Longtitude       \n",
    "    -Landsize         \n",
    "    -Location_TRA     \n",
    "    -BathsAndRooms    \n",
    "    -Lattitude        \n",
    "\n",
    "\n",
    "\n",
    "## 4. Categorización del Precio\n",
    "\n",
    "\n",
    "En primer luegar analizamos la distribución del precio. \n",
    "\n"
   ]
  },
  {
   "cell_type": "code",
   "execution_count": 1,
   "metadata": {},
   "outputs": [],
   "source": [
    "import pandas as pd\n",
    "import seaborn as sns\n",
    "import statistics as stat\n",
    "from scipy import stats as st\n",
    "import matplotlib.pyplot as plt\n",
    "import seaborn as sns\n",
    "\n",
    "data= pd.read_csv(\"seleccion_variables_RF_bathandrooms.csv\")"
   ]
  },
  {
   "cell_type": "markdown",
   "metadata": {},
   "source": [
    "Analizamos la distribución del precio. "
   ]
  },
  {
   "cell_type": "code",
   "execution_count": 11,
   "metadata": {},
   "outputs": [
    {
     "name": "stdout",
     "output_type": "stream",
     "text": [
      "              Price\n",
      "count  2.705600e+04\n",
      "mean   1.053621e+06\n",
      "std    6.432746e+05\n",
      "min    8.500000e+04\n",
      "25%    6.400000e+05\n",
      "50%    8.750000e+05\n",
      "75%    1.300000e+06\n",
      "max    1.120000e+07\n",
      "la mediana de Price    875000.0\n",
      "dtype: float64\n",
      "La moda de  Price ModeResult(mode=array([[600000]]), count=array([[230]]))\n"
     ]
    }
   ],
   "source": [
    "precio=data[[\"Price\"]]\n",
    "print(precio.describe())\n",
    "mediana= precio.median()\n",
    "print(\"la mediana de\" , mediana)\n",
    "#moda=(stat.mode(precio)\n",
    "moda=st.mode(precio)    \n",
    "print(\"La moda de  Price\" , moda)"
   ]
  },
  {
   "cell_type": "code",
   "execution_count": 12,
   "metadata": {},
   "outputs": [
    {
     "data": {
      "text/plain": [
       "<matplotlib.axes._subplots.AxesSubplot at 0x7f83d407c550>"
      ]
     },
     "execution_count": 12,
     "metadata": {},
     "output_type": "execute_result"
    },
    {
     "data": {
      "image/png": "[encoded data removed]",
      "text/plain": [
       "<Figure size 432x288 with 1 Axes>"
      ]
     },
     "metadata": {
      "filenames": {
       "image/png": "/home/inma/Master_Data_Science _Contenido/Machine_learningI/Practica/Machine-Learning-I/MachinelearningI/_build/jupyter_execute/1-DefinicionObjetivos_10_1.png"
      },
      "needs_background": "light"
     },
     "output_type": "display_data"
    }
   ],
   "source": [
    "sns.histplot(data=precio, kde=True, stat='density')"
   ]
  },
  {
   "cell_type": "markdown",
   "metadata": {},
   "source": [
    "La distribución del precio es bastante asimetrica hacia la derecha. Decidimos utiliza entonces la mediana para categorizar el precio  de forma binaria en \"Caro\" y \"Barato\" utilizando el punto de corte la mediana.Dandonos nos categorias bastante equilibradas.  \n"
   ]
  },
  {
   "cell_type": "markdown",
   "metadata": {},
   "source": [
    "\n"
   ]
  },
  {
   "cell_type": "code",
   "execution_count": 13,
   "metadata": {},
   "outputs": [],
   "source": [
    "data.sort_values(\"Price\")\n",
    "mediana= 870000.0\n",
    "precio_bajo= data[data[\"Price\"]< mediana]\n",
    "precio_alto= data[data[\"Price\"]>= mediana]"
   ]
  },
  {
   "cell_type": "code",
   "execution_count": 14,
   "metadata": {},
   "outputs": [
    {
     "name": "stdout",
     "output_type": "stream",
     "text": [
      "13381\n",
      "13675\n"
     ]
    }
   ],
   "source": [
    "print(len(precio_bajo))\n",
    "print(len(precio_alto))"
   ]
  },
  {
   "cell_type": "markdown",
   "metadata": {},
   "source": [
    "# 5.Division de los datos.  \n",
    "\n",
    "Creación de la nueva categoría. "
   ]
  },
  {
   "cell_type": "code",
   "execution_count": 9,
   "metadata": {},
   "outputs": [
    {
     "name": "stdout",
     "output_type": "stream",
     "text": [
      "precio_div\n",
      "0    13381\n",
      "1    13675\n",
      "dtype: int64\n"
     ]
    }
   ],
   "source": [
    "import pandas as pd\n",
    "import numpy as np\n",
    "data= pd.read_csv(\"./CSV/seleccion_variables_RF_bathandrooms.csv\")\n",
    "\n",
    "#Etiquetarlos datos en funcion de alto o bajo. \n",
    "\n",
    "mediana= 870000.0\n",
    "data[\"precio_div\"]= np.where(data[\"Price\"]>=mediana, \"1\", \"0\" )#1 es caro Y 0 es barato \n",
    "print(data.groupby('precio_div').size())"
   ]
  },
  {
   "cell_type": "markdown",
   "metadata": {},
   "source": [
    "Creamos 3 subcobjuntos que  para realizar el entrenamiento (\"Train\"), la prueba de resultado del entrenamiento (\"test\") y la valicacion final del modelo (\"validacion\"). "
   ]
  },
  {
   "cell_type": "code",
   "execution_count": 15,
   "metadata": {},
   "outputs": [
    {
     "name": "stdout",
     "output_type": "stream",
     "text": [
      "Ejemplos usados para entrenar:  21608\n",
      "Ejemplos usados para test:  5402\n"
     ]
    }
   ],
   "source": [
    "# dividir el data set de forma aleatoria \n",
    "\n",
    "p_train = 0.80 # Porcentaje de train.\n",
    "\n",
    "data['is_train'] = np.random.uniform(0, 1, len(data)) <= p_train\n",
    "train, validation = data[data['is_train']==True], data[data['is_train']==False]\n",
    "df = data.drop('is_train', 1)\n",
    "\n",
    "print(\"Ejemplos usados para entrenar: \", len(entrenamiento))\n",
    "print(\"Ejemplos usados para test: \", len(validation))\n",
    "\n",
    "\n"
   ]
  },
  {
   "cell_type": "code",
   "execution_count": 17,
   "metadata": {},
   "outputs": [],
   "source": [
    "#Guardamos en un CSV los datos de entrenamiento y los de validacion. \n",
    "validation.to_csv('csv_precio_div_validation.csv')\n",
    "train.to_csv('csv_precio_div.csv')"
   ]
  },
  {
   "cell_type": "code",
   "execution_count": 16,
   "metadata": {},
   "outputs": [
    {
     "name": "stdout",
     "output_type": "stream",
     "text": [
      "Ejemplos usados para entrenar:  15172\n",
      "Ejemplos usados para test:  6482\n"
     ]
    },
    {
     "name": "stderr",
     "output_type": "stream",
     "text": [
      "<ipython-input-16-a50a4211140e>:3: SettingWithCopyWarning: \n",
      "A value is trying to be set on a copy of a slice from a DataFrame.\n",
      "Try using .loc[row_indexer,col_indexer] = value instead\n",
      "\n",
      "See the caveats in the documentation: https://pandas.pydata.org/pandas-docs/stable/user_guide/indexing.html#returning-a-view-versus-a-copy\n",
      "  train['is_train'] = np.random.uniform(0, 1, len(train)) <= p_train\n"
     ]
    }
   ],
   "source": [
    "p_train = 0.70 # Porcentaje de train.\n",
    "\n",
    "train['is_train'] = np.random.uniform(0, 1, len(train)) <= p_train\n",
    "entrenamiento, test = train[train['is_train']==True], train[train['is_train']==False]\n",
    "df = data.drop('is_train', 1)\n",
    "\n",
    "print(\"Ejemplos usados para entrenar: \", len(entrenamiento))\n",
    "print(\"Ejemplos usados para test: \", len(test))"
   ]
  },
  {
   "cell_type": "code",
   "execution_count": null,
   "metadata": {},
   "outputs": [],
   "source": []
  },
  {
   "cell_type": "markdown",
   "metadata": {},
   "source": [
    "\n",
    "```{toctree}\n",
    ":hidden:\n",
    ":titlesonly:\n",
    "\n",
    "\n",
    "2-Aprendizaje-No-Super\n",
    "3-Reduccion_dimensionalidad\n",
    "4-Aprendizaje_supervisado\n",
    "5_Aprendizaje_supervisado_2\n",
    "6.Evaluacion_modelos\n",
    "7.Curva_ROC\n",
    "```\n"
   ]
  }
 ],
 "metadata": {
  "kernelspec": {
   "display_name": "Python 3",
   "language": "python",
   "name": "python3"
  },
  "language_info": {
   "codemirror_mode": {
    "name": "ipython",
    "version": 3
   },
   "file_extension": ".py",
   "mimetype": "text/x-python",
   "name": "python",
   "nbconvert_exporter": "python",
   "pygments_lexer": "ipython3",
   "version": "3.8.3"
  }
 },
 "nbformat": 4,
 "nbformat_minor": 4
}