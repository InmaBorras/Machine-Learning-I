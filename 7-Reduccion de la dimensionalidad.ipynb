{
 "cells": [
  {
   "cell_type": "markdown",
   "metadata": {},
   "source": [
    "# Tecnicas de reduccion de la dimensionalidad\n",
    "\n",
    "Seleccionamos una de las tecnias de reduccion de la dimensionalidad para observar como influyen en los modelos. \n",
    " \n",
    "### PCA \n",
    "\n",
    "En primer lugar,  visuliazamos las correlacion entre las difrentes variables par eliminar las que son rependintes "
   ]
  },
  {
   "cell_type": "code",
   "execution_count": null,
   "metadata": {},
   "outputs": [],
   "source": [
    "%run -i practica_machine_learning.py \n",
    "\n",
    "#eliminar las salidas \n"
   ]
  },
  {
   "cell_type": "code",
   "execution_count": null,
   "metadata": {},
   "outputs": [],
   "source": [
    "for i in datos.columns:\n",
    "    if(isinstance(datos[str(i)].iloc[0], ( np.int64))  or isinstance(datos[str(i)].iloc[0],(np.float64))):\n",
    "        corr_matrix=datos.corr(method='pearson')         \n",
    "        max_corr=corr_matrix[str(i)].sort_values(ascending=False)\n",
    "        print('los maximos que correlan con '+str(i)+\" son: \"+str(max_corr))\n",
    "    else:\n",
    "        datos=datos.drop(columns=[str(i)])"
   ]
  },
  {
   "cell_type": "markdown",
   "metadata": {},
   "source": [
    "Realizamos una visualizacion de las componentes y decidimos cual borrar. "
   ]
  },
  {
   "cell_type": "code",
   "execution_count": null,
   "metadata": {},
   "outputs": [],
   "source": []
  }
 ],
 "metadata": {
  "kernelspec": {
   "display_name": "Python 3",
   "language": "python",
   "name": "python3"
  },
  "language_info": {
   "codemirror_mode": {
    "name": "ipython",
    "version": 3
   },
   "file_extension": ".py",
   "mimetype": "text/x-python",
   "name": "python",
   "nbconvert_exporter": "python",
   "pygments_lexer": "ipython3",
   "version": "3.8.3"
  }
 },
 "nbformat": 4,
 "nbformat_minor": 4
}
