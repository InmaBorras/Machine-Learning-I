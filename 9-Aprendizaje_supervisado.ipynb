{
 "cells": [
  {
   "cell_type": "markdown",
   "metadata": {},
   "source": [
    "# Aprendizaje Supervisado \n",
    "\n",
    "\n"
   ]
  },
  {
   "cell_type": "code",
   "execution_count": 3,
   "metadata": {},
   "outputs": [
    {
     "name": "stdout",
     "output_type": "stream",
     "text": [
      "   Unnamed: 0  Rooms      Price  Distance  Postcode  Bathroom  Car  Landsize  \\\n",
      "1           1    2.0  1035000.0       2.5    3067.0       1.0  0.0     156.0   \n",
      "2           2    3.0  1465000.0       2.5    3067.0       2.0  0.0     134.0   \n",
      "3           3    3.0  1465000.0       2.5    3067.0       2.0  0.0     134.0   \n",
      "5           5    3.0  1465000.0       2.5    3067.0       2.0  0.0     134.0   \n",
      "6           6    3.0  1465000.0       2.5    3067.0       2.0  0.0     134.0   \n",
      "\n",
      "   Propertycount  Distancia_NEW  Longtitude  Lattitude  Location_TRA  \\\n",
      "1         4019.0       5.298425    144.9934   -37.8079      3.835003   \n",
      "2         4019.0       5.125216    144.9944   -37.8093      3.834887   \n",
      "3         4019.0       9.827458    144.9634   -37.7745      3.837599   \n",
      "5         4019.0      19.298740    144.8329   -37.7749      3.834104   \n",
      "6         4019.0       7.022620    145.1116   -37.8255      3.836343   \n",
      "\n",
      "  precio_div  is_train  \n",
      "1          1      True  \n",
      "2          1      True  \n",
      "3          1      True  \n",
      "5          1      True  \n",
      "6          1      True  \n",
      "       Distance  Lattitude  Landsize  Bathroom precio_div\n",
      "1           2.5 -37.807900     156.0       1.0          1\n",
      "2           2.5 -37.809300     134.0       2.0          1\n",
      "3           2.5 -37.774500     134.0       2.0          1\n",
      "5           2.5 -37.774900     134.0       2.0          1\n",
      "6           2.5 -37.825500     134.0       2.0          1\n",
      "...         ...        ...       ...       ...        ...\n",
      "27048      25.5 -37.610310     404.0       2.0          0\n",
      "27051       6.3 -37.810530     593.0       1.0          1\n",
      "27052       6.3 -37.815510      98.0       2.0          1\n",
      "27054       6.3 -37.808238     288.4       1.0          1\n",
      "27055       6.3 -37.818100     250.0       1.0          1\n",
      "\n",
      "[19064 rows x 5 columns]\n",
      "   Distance  Lattitude  Landsize  Bathroom\n",
      "1       2.5   -37.8079     156.0       1.0\n",
      "2       2.5   -37.8093     134.0       2.0\n",
      "3       2.5   -37.7745     134.0       2.0\n",
      "5       2.5   -37.7749     134.0       2.0\n",
      "6       2.5   -37.8255     134.0       2.0\n",
      "          0         1         2      3\n",
      "0  0.051975  0.482609  0.001063  0.125\n",
      "1  0.051975  0.480842  0.000913  0.250\n",
      "2  0.051975  0.524747  0.000913  0.250\n",
      "3  0.051975  0.524242  0.000913  0.250\n",
      "4  0.051975  0.460404  0.000913  0.250\n"
     ]
    },
    {
     "name": "stderr",
     "output_type": "stream",
     "text": [
      "/home/inma/anaconda3/lib/python3.8/site-packages/sklearn/utils/validation.py:73: DataConversionWarning: A column-vector y was passed when a 1d array was expected. Please change the shape of y to (n_samples, ), for example using ravel().\n",
      "  return f(**kwargs)\n"
     ]
    },
    {
     "name": "stdout",
     "output_type": "stream",
     "text": [
      "0.7296046046046046\n"
     ]
    }
   ],
   "source": [
    "%run -i Aprendizaje_supervisado.py # poner para que no imprima nada "
   ]
  },
  {
   "cell_type": "code",
   "execution_count": 3,
   "metadata": {},
   "outputs": [
    {
     "name": "stdout",
     "output_type": "stream",
     "text": [
      "precio_div\n",
      "0    13381\n",
      "1    13675\n",
      "dtype: int64\n"
     ]
    }
   ],
   "source": [
    "print(data.groupby('precio_div').size())"
   ]
  },
  {
   "cell_type": "code",
   "execution_count": 4,
   "metadata": {},
   "outputs": [
    {
     "name": "stdout",
     "output_type": "stream",
     "text": [
      "Ejemplos usados para entrenar:  18827\n",
      "Ejemplos usados para test:  8229\n"
     ]
    }
   ],
   "source": [
    "# Hemos separado  el 70%\n",
    "print(\"Ejemplos usados para entrenar: \", len(train))\n",
    "print(\"Ejemplos usados para test: \", len(test))\n"
   ]
  },
  {
   "cell_type": "markdown",
   "metadata": {},
   "source": [
    "## GLM : Regresion Logística \n",
    "\n",
    " hacer graficas \n",
    "  con y sin normalizar??\n"
   ]
  },
  {
   "cell_type": "code",
   "execution_count": 8,
   "metadata": {},
   "outputs": [],
   "source": [
    "#TRAIN \n",
    "features = np.array(train[['Distance','Lattitude','Landsize','Bathroom']])\n",
    "labels = np.array(train[['precio_div']])"
   ]
  },
  {
   "cell_type": "code",
   "execution_count": 9,
   "metadata": {},
   "outputs": [],
   "source": [
    "#TEST\n",
    "features_t = np.array(test[['Distance','Lattitude','Landsize','Bathroom']])\n",
    "labels_t = np.array(test[['precio_div']])"
   ]
  },
  {
   "cell_type": "code",
   "execution_count": 10,
   "metadata": {},
   "outputs": [
    {
     "name": "stderr",
     "output_type": "stream",
     "text": [
      "/home/inma/anaconda3/lib/python3.8/site-packages/sklearn/utils/validation.py:73: DataConversionWarning: A column-vector y was passed when a 1d array was expected. Please change the shape of y to (n_samples, ), for example using ravel().\n",
      "  return f(**kwargs)\n"
     ]
    },
    {
     "data": {
      "text/plain": [
       "LogisticRegression()"
      ]
     },
     "execution_count": 10,
     "metadata": {},
     "output_type": "execute_result"
    }
   ],
   "source": [
    "# Create logistic regression model\n",
    "\n",
    "model = linear_model.LogisticRegression()\n",
    "\n",
    "#Train the model\n",
    "model.fit(features, labels)#The first is a matrix of features, and the second is a matrix of class labels. "
   ]
  },
  {
   "cell_type": "code",
   "execution_count": 11,
   "metadata": {},
   "outputs": [
    {
     "name": "stdout",
     "output_type": "stream",
     "text": [
      "0.6903822441430333\n"
     ]
    }
   ],
   "source": [
    "#Validacion del modelo\n",
    "\n",
    "#predicion of the class\n",
    "predictions_t= model.predict(features_t)\n",
    "print(accuracy_score(labels_t, predictions_t))"
   ]
  },
  {
   "cell_type": "code",
   "execution_count": 7,
   "metadata": {},
   "outputs": [
    {
     "name": "stdout",
     "output_type": "stream",
     "text": [
      "              precision    recall  f1-score   support\n",
      "\n",
      "           0       0.67      0.73      0.70      4020\n",
      "           1       0.71      0.65      0.68      4090\n",
      "\n",
      "    accuracy                           0.69      8110\n",
      "   macro avg       0.69      0.69      0.69      8110\n",
      "weighted avg       0.69      0.69      0.69      8110\n",
      "\n"
     ]
    }
   ],
   "source": [
    "#Reporte de resultados del Modelo\n",
    "\n",
    "print(classification_report(labels_t , predictions_t))"
   ]
  },
  {
   "cell_type": "markdown",
   "metadata": {},
   "source": [
    "### K- NEAREST NEIGHBORS (KNN )\n",
    "\n"
   ]
  },
  {
   "cell_type": "code",
   "execution_count": 7,
   "metadata": {},
   "outputs": [],
   "source": [
    "# # SELECCION DE VARIABLES\n",
    "\n",
    "X = train[['Distance','Lattitude','Landsize','Bathroom']].values\n",
    "y = train[['precio_div']].values\n",
    "\n",
    "X_test=test[['Distance','Lattitude','Landsize','Bathroom']].values\n",
    "y_test=test[['precio_div']]\n",
    " "
   ]
  },
  {
   "cell_type": "code",
   "execution_count": 8,
   "metadata": {},
   "outputs": [],
   "source": [
    "#NORMALIZACION\n",
    "\n",
    "scaler = MinMaxScaler()\n",
    "X= scaler.fit_transform(X)\n",
    "X_test = scaler.transform(X_test)"
   ]
  },
  {
   "cell_type": "code",
   "execution_count": 20,
   "metadata": {},
   "outputs": [
    {
     "name": "stderr",
     "output_type": "stream",
     "text": [
      "<ipython-input-20-7bdeb84d2655>:6: DataConversionWarning: A column-vector y was passed when a 1d array was expected. Please change the shape of y to (n_samples, ), for example using ravel().\n",
      "  classifier.fit(X,y)\n"
     ]
    },
    {
     "name": "stdout",
     "output_type": "stream",
     "text": [
      "Accuracy of K-NN classifier on training set: 0.90\n",
      "Accuracy of K-NN classifier on test set: 0.80\n"
     ]
    }
   ],
   "source": [
    "\n",
    "#ENTRENAR EL MODELO\n",
    "#Hiperparametros-- https://rubialesalberto.medium.com/predicci%C3%B3n-del-cancer-de-mama-con-el-algoritmo-vecinos-cercanos-knn-en-sklearn-y-sus-par%C3%A1metros-ab94253c46f5\n",
    "n_neighbors = 3\n",
    "#algorithm='brute'\n",
    "#p=1\n",
    "weights='distance'# uniforme ( todos los puntos son iguales )\n",
    "#n_jobs=-1\n",
    "\n",
    "classifier = KNeighborsClassifier(n_neighbors)# n_neighbors is K\n",
    "\n",
    "# #Train the classifier\n",
    "classifier.fit(X,y)\n",
    "print('Accuracy of K-NN classifier on training set: {:.2f}'.format(classifier.score(X, y)))\n",
    "print('Accuracy of K-NN classifier on test set: {:.2f}'.format(classifier.score(X_test, y_test)))"
   ]
  },
  {
   "cell_type": "code",
   "execution_count": 11,
   "metadata": {},
   "outputs": [
    {
     "name": "stdout",
     "output_type": "stream",
     "text": [
      "[[3103  811]\n",
      " [1655 2423]]\n",
      "              precision    recall  f1-score   support\n",
      "\n",
      "           0       0.65      0.79      0.72      3914\n",
      "           1       0.75      0.59      0.66      4078\n",
      "\n",
      "    accuracy                           0.69      7992\n",
      "   macro avg       0.70      0.69      0.69      7992\n",
      "weighted avg       0.70      0.69      0.69      7992\n",
      "\n"
     ]
    }
   ],
   "source": [
    "#PRECISION DEL MODELO\n",
    "pred = classifier.predict(X_test)\n",
    "print(confusion_matrix(y_test, pred))\n",
    "print(classification_report(y_test, pred))\n"
   ]
  },
  {
   "cell_type": "code",
   "execution_count": 18,
   "metadata": {},
   "outputs": [
    {
     "data": {
      "text/plain": [
       "([<matplotlib.axis.XTick at 0x7f5a8c59f3a0>,\n",
       "  <matplotlib.axis.XTick at 0x7f5a8c59f370>,\n",
       "  <matplotlib.axis.XTick at 0x7f5a8c579bb0>,\n",
       "  <matplotlib.axis.XTick at 0x7f5a8c53cee0>,\n",
       "  <matplotlib.axis.XTick at 0x7f5a8c548430>],\n",
       " <a list of 5 Text major ticklabel objects>)"
      ]
     },
     "execution_count": 18,
     "metadata": {},
     "output_type": "execute_result"
    },
    {
     "data": {
      "image/png": "[encoded data removed]",
      "text/plain": [
       "<Figure size 432x288 with 1 Axes>"
      ]
     },
     "metadata": {
      "needs_background": "light"
     },
     "output_type": "display_data"
    }
   ],
   "source": [
    "#ELEGIR EL MEJOR K \n",
    "plt.figure()\n",
    "plt.xlabel('k')\n",
    "plt.ylabel('accuracy')\n",
    "plt.scatter(k_range, scores)\n",
    "plt.xticks([0,5,10,15,20])"
   ]
  },
  {
   "cell_type": "markdown",
   "metadata": {},
   "source": [
    "### SVM \n",
    "\n",
    "\n",
    "Primero sin normalizar y despues normalizando \n",
    "probar los difrentes kernels "
   ]
  },
  {
   "cell_type": "code",
   "execution_count": 12,
   "metadata": {},
   "outputs": [],
   "source": [
    "#Train \n",
    "X = np.array(train[['Distance','Lattitude','Landsize','Bathroom']])\n",
    "Y = np.array(train[['precio_div']])\n",
    "\n",
    "#test\n",
    "X_test = np.array(test[['Distance','Lattitude','Landsize','Bathroom']])\n",
    "Y_test = np.array(test[['precio_div']])\n"
   ]
  },
  {
   "cell_type": "markdown",
   "metadata": {},
   "source": [
    "Kernel Lineal "
   ]
  },
  {
   "cell_type": "code",
   "execution_count": 22,
   "metadata": {},
   "outputs": [
    {
     "name": "stderr",
     "output_type": "stream",
     "text": [
      "/home/inma/anaconda3/lib/python3.8/site-packages/sklearn/utils/validation.py:73: DataConversionWarning: A column-vector y was passed when a 1d array was expected. Please change the shape of y to (n_samples, ), for example using ravel().\n",
      "  return f(**kwargs)\n"
     ]
    },
    {
     "name": "stdout",
     "output_type": "stream",
     "text": [
      "0.693943943943944\n"
     ]
    }
   ],
   "source": [
    "classifier = SVC(kernel = \"linear\", C = 2)\n",
    "classifier.fit(X, Y) \n",
    "#print(classifier.predict(X_test))\n",
    "print(\"Kernel lineal\", classifier.score(X_test, Y_test))"
   ]
  },
  {
   "cell_type": "markdown",
   "metadata": {},
   "source": [
    "Kernel Polinómico"
   ]
  },
  {
   "cell_type": "code",
   "execution_count": 23,
   "metadata": {},
   "outputs": [
    {
     "name": "stderr",
     "output_type": "stream",
     "text": [
      "/home/inma/anaconda3/lib/python3.8/site-packages/sklearn/utils/validation.py:73: DataConversionWarning: A column-vector y was passed when a 1d array was expected. Please change the shape of y to (n_samples, ), for example using ravel().\n",
      "  return f(**kwargs)\n"
     ]
    },
    {
     "name": "stdout",
     "output_type": "stream",
     "text": [
      "Kernel polinómico 0.6945695695695696\n"
     ]
    }
   ],
   "source": [
    "classifier = SVC(kernel = \"poly\",degree= 2, C = 2)\n",
    "classifier.fit(X, Y) \n",
    "#print(classifier.predict(X_test))\n",
    "print(\"Kernel polinómico\", classifier.score(X_test, Y_test))"
   ]
  },
  {
   "cell_type": "markdown",
   "metadata": {},
   "source": [
    "Kernel RBF"
   ]
  },
  {
   "cell_type": "code",
   "execution_count": 25,
   "metadata": {},
   "outputs": [
    {
     "name": "stderr",
     "output_type": "stream",
     "text": [
      "/home/inma/anaconda3/lib/python3.8/site-packages/sklearn/utils/validation.py:73: DataConversionWarning: A column-vector y was passed when a 1d array was expected. Please change the shape of y to (n_samples, ), for example using ravel().\n",
      "  return f(**kwargs)\n"
     ]
    },
    {
     "name": "stdout",
     "output_type": "stream",
     "text": [
      "Kernel rbf 0.6914414414414415\n"
     ]
    }
   ],
   "source": [
    "classifier = SVC(kernel = \"rbf\", gamma = 0.3, C = 2)\n",
    "classifier.fit(X, Y) \n",
    "#print(classifier.predict(X_test))\n",
    "print(\"Kernel rbf\", classifier.score(X_test, Y_test))"
   ]
  },
  {
   "cell_type": "markdown",
   "metadata": {},
   "source": [
    "Normalizando "
   ]
  },
  {
   "cell_type": "code",
   "execution_count": 14,
   "metadata": {},
   "outputs": [
    {
     "name": "stderr",
     "output_type": "stream",
     "text": [
      "/home/inma/anaconda3/lib/python3.8/site-packages/sklearn/utils/validation.py:73: DataConversionWarning: A column-vector y was passed when a 1d array was expected. Please change the shape of y to (n_samples, ), for example using ravel().\n",
      "  return f(**kwargs)\n"
     ]
    },
    {
     "name": "stdout",
     "output_type": "stream",
     "text": [
      "0.6914414414414415\n"
     ]
    }
   ],
   "source": [
    "scaler = MinMaxScaler()\n",
    "X= scaler.fit_transform(X)\n",
    "X_test = scaler.transform(X_test)\n",
    "\n",
    "classifier = SVC(kernel = \"rbf\", gamma = 0.3, C = 2)\n",
    "classifier.fit(X, Y) \n",
    "#print(classifier.predict(X_test))\n",
    "print(classifier.score(X_test, Y_test))"
   ]
  },
  {
   "cell_type": "code",
   "execution_count": null,
   "metadata": {},
   "outputs": [],
   "source": []
  }
 ],
 "metadata": {
  "kernelspec": {
   "display_name": "Python 3",
   "language": "python",
   "name": "python3"
  },
  "language_info": {
   "codemirror_mode": {
    "name": "ipython",
    "version": 3
   },
   "file_extension": ".py",
   "mimetype": "text/x-python",
   "name": "python",
   "nbconvert_exporter": "python",
   "pygments_lexer": "ipython3",
   "version": "3.8.3"
  }
 },
 "nbformat": 4,
 "nbformat_minor": 4
}
